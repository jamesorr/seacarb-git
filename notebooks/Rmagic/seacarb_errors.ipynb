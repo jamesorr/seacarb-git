{
 "cells": [
  {
   "cell_type": "markdown",
   "metadata": {},
   "source": [
    "# Examples with `seacarb`'s `errors` routine for uncertainty propagation"
   ]
  },
  {
   "cell_type": "markdown",
   "metadata": {},
   "source": [
    "<hr>\n",
    "James Orr - 4 July 2018<br>\n",
    "\n",
    "<img align=\"left\" width=\"60%\" src=\"http://www.lsce.ipsl.fr/Css/img/banniere_LSCE_75.png\" \\><br><br>\n",
    "\n",
    "LSCE/IPSL, CEA-CNRS-UVSQ, Gif-sur-Yvette, France\n",
    "<hr>"
   ]
  },
  {
   "cell_type": "markdown",
   "metadata": {},
   "source": [
    "#### Table of Contents:\n",
    "    1. Setup, load, install seacarb (one-time only)\n",
    "    2. Uncertainty propagation with `errors` routine\n"
   ]
  },
  {
   "cell_type": "markdown",
   "metadata": {},
   "source": [
    "## 1. Setup "
   ]
  },
  {
   "cell_type": "markdown",
   "metadata": {},
   "source": [
    "#### Run interactively\n",
    "\n",
    "If you are visualizing this after clicking on the link to this file on github, you are visualizing the HTML version of a jupyter notebook. Alternatively, you may run cells interactively and modify them if you have `jupyter notebook` installed on your machine.  To install that software, just download and the anaconda open software installer for your computing platform (Windows, OS X, or Linux) from https://www.continuum.io/downloads and then follow the easy install instructions at\n",
    "\n",
    "https://docs.continuum.io/anaconda/install#\n",
    "\n",
    "Then just download this `jupyter notebook` file as well as the seacarb package (see section 1.2 below).  Afterwards, you'll only need to install `Rmagic`, available in the `rpy2` package with the 2 lines of commands shown in the following section."
   ]
  },
  {
   "cell_type": "markdown",
   "metadata": {},
   "source": [
    "#### Install `R` and `Rmagic`\n",
    "\n",
    "Before launching the notebook with the usual command `jupyter notebook`, it is necessary to install the Rmagic functionality.  That is now in the `rpy2` package of conda.  So to install that, at the Unix prompt, just enter the following 2 commands:\n",
    "\n",
    "`conda install -c r r-essentials`\n",
    "\n",
    "`conda install rpy2`\n",
    "\n",
    "That only needs to be done once. Now go to the directory with this notebook, and at the Unix prompt, give the `jupyter notebook` command"
   ]
  },
  {
   "cell_type": "markdown",
   "metadata": {},
   "source": [
    "#### Documentation for `Rmagic`\n",
    "\n",
    "Details on using Rmagic are here: https://ipython.org/ipython-doc/2/config/extensions/rmagic.html"
   ]
  },
  {
   "cell_type": "markdown",
   "metadata": {},
   "source": [
    "### 1.1 Allow use of the `Rmagic` extension (through the `rpy2` package)"
   ]
  },
  {
   "cell_type": "code",
   "execution_count": 1,
   "metadata": {
    "collapsed": false
   },
   "outputs": [],
   "source": [
    "%load_ext rpy2.ipython"
   ]
  },
  {
   "cell_type": "markdown",
   "metadata": {},
   "source": [
    "### 1.2  Install seacarb and call library (need to install `seacarb` only once unlesss updating versions)"
   ]
  },
  {
   "cell_type": "markdown",
   "metadata": {},
   "source": [
    "#### Uncomment last line in cell below and execute cell if you want to install `seacarb` again"
   ]
  },
  {
   "cell_type": "code",
   "execution_count": 3,
   "metadata": {
    "collapsed": false
   },
   "outputs": [],
   "source": [
    "%%R\n",
    "#install.packages('seacarb')\n",
    "install.packages('seacarb', repos=\"http://ftp.igh.cnrs.fr/pub/CRAN/\")"
   ]
  },
  {
   "cell_type": "markdown",
   "metadata": {},
   "source": [
    "#### Use seacarb library (only need to invoke this once per session)"
   ]
  },
  {
   "cell_type": "code",
   "execution_count": 5,
   "metadata": {
    "collapsed": false,
    "scrolled": false
   },
   "outputs": [],
   "source": [
    "%%R\n",
    "library(seacarb)"
   ]
  },
  {
   "cell_type": "markdown",
   "metadata": {},
   "source": [
    "#### Version number of seacarb that you are using"
   ]
  },
  {
   "cell_type": "code",
   "execution_count": 6,
   "metadata": {
    "collapsed": false,
    "scrolled": true
   },
   "outputs": [
    {
     "data": {
      "text/plain": [
       "[1] ‘3.2.8’\n"
      ]
     },
     "metadata": {},
     "output_type": "display_data"
    }
   ],
   "source": [
    "%%R\n",
    "packageVersion('seacarb')"
   ]
  },
  {
   "cell_type": "markdown",
   "metadata": {},
   "source": [
    "## 2.  Uncertainty Propagation with `errors` routine"
   ]
  },
  {
   "cell_type": "code",
   "execution_count": 7,
   "metadata": {
    "collapsed": false
   },
   "outputs": [
    {
     "name": "stdout",
     "output_type": "stream",
     "text": [
      "R Help on ‘errors’errors                 package:seacarb                 R Documentation\n",
      "\n",
      "_\bE_\br_\br_\bo_\br _\bp_\br_\bo_\bp_\ba_\bg_\ba_\bt_\bi_\bo_\bn _\bf_\bo_\br _\bc_\bo_\bm_\bp_\bu_\bt_\be_\bd _\bm_\ba_\br_\bi_\bn_\be _\bc_\ba_\br_\bb_\bo_\bn_\ba_\bt_\be _\bs_\by_\bs_\bt_\be_\bm _\bv_\ba_\br_\bi_\ba_\bb_\bl_\be_\bs\n",
      "\n",
      "_\bD_\be_\bs_\bc_\br_\bi_\bp_\bt_\bi_\bo_\bn:\n",
      "\n",
      "     Estimates uncertainties in computed carbonate system variables by\n",
      "     propagating standard error (uncertainty) in six input variables,\n",
      "     including:\n",
      "\n",
      "        • the input pair of carbonate system variables,\n",
      "\n",
      "        • the 2 input nutrients (silicate and phosphate\n",
      "          concentrations),\n",
      "\n",
      "        • temperature and salinity. It also accounts for\n",
      "\n",
      "        • the errors in the key dissociation constants pK0, pK1, pK2,\n",
      "          pKb, pKw, pKspa and pKspc\n",
      "\n",
      "        • the error in total boron\n",
      "\n",
      "_\bU_\bs_\ba_\bg_\be:\n",
      "\n",
      "     errors(flag, var1, var2, S=35, T=25, Patm=1, P=0, Pt=0, Sit=0, \n",
      "                   evar1=0, evar2=0, eS=0.01, eT=0.01, ePt=0, eSit=0, \n",
      "                   epK=c(0.002, 0.0075, 0.015, 0.01, 0.01, 0.02, 0.02),\n",
      "                   eBt=0.02, method = \"ga\", r=0.0, runs=10000,\n",
      "                   k1k2='x', kf='x', ks=\"d\", pHscale=\"T\", b=\"u74\", gas=\"potential\", \n",
      "                   warn=\"y\", eos = \"eos80\", long = 1e+20, lat = 1e+20)\n",
      "     \n",
      "_\bA_\br_\bg_\bu_\bm_\be_\bn_\bt_\bs:\n",
      "\n",
      "    flag: select the pair of carbonate system input variables. The\n",
      "          flags to be used are as follows:\n",
      "\n",
      "          flag = 1 pH and CO2 given\n",
      "\n",
      "          flag = 2 CO2 and HCO3 given\n",
      "\n",
      "          flag = 3 CO2 and CO3 given\n",
      "\n",
      "          flag = 4 CO2 and ALK given\n",
      "\n",
      "          flag = 5 CO2 and DIC given\n",
      "\n",
      "          flag = 6 pH and HCO3 given\n",
      "\n",
      "          flag = 7 pH and CO3 given\n",
      "\n",
      "          flag = 8 pH and ALK given\n",
      "\n",
      "          flag = 9 pH and DIC given\n",
      "\n",
      "          flag = 10 HCO3 and CO3 given\n",
      "\n",
      "          flag = 11 HCO3 and ALK given\n",
      "\n",
      "          flag = 12 HCO3 and DIC given\n",
      "\n",
      "          flag = 13 CO3 and ALK given\n",
      "\n",
      "          flag = 14 CO3 and DIC given\n",
      "\n",
      "          flag = 15 ALK and DIC given\n",
      "\n",
      "          flag = 21 pCO2 and pH given\n",
      "\n",
      "          flag = 22 pCO2 and HCO3 given\n",
      "\n",
      "          flag = 23 pCO2 and CO3 given\n",
      "\n",
      "          flag = 24 pCO2 and ALK given\n",
      "\n",
      "          flag = 25 pCO2 and DIC given\n",
      "\n",
      "    var1: Value of the first variable (in mol/kg, except for pH and for\n",
      "          pCO2 in muatm)\n",
      "\n",
      "    var2: Value of the second variable (in mol/kg, except for pH)\n",
      "\n",
      "       S: Salinity (practical salinity scale)\n",
      "\n",
      "       T: Temperature in degrees Celsius\n",
      "\n",
      "    Patm: Surface atmospheric pressure in atm, default is 1 atm\n",
      "\n",
      "       P: Hydrostatic pressure in bar (surface = 0)\n",
      "\n",
      "      Pt: Concentration of total dissolved inorganic phosphorus\n",
      "          (mol/kg); set to 0 if NA\n",
      "\n",
      "     Sit: Concentration of total dissolved inorganic silicon (mol/kg);\n",
      "          set to 0 if NA\n",
      "\n",
      "   evar1: Error (uncertainty) in var1 of input pair of carbonate system\n",
      "          variables\n",
      "\n",
      "   evar2: Error (uncertainty) in var2 of input pair of carbonate system\n",
      "          variables\n",
      "\n",
      "      eS: Error (uncertainty) in salinity; default is 0.01\n",
      "\n",
      "      eT: Error (uncertainty) in temperature (degree C); default is\n",
      "          0.01\n",
      "\n",
      "     ePt: Error (uncertainty) in total dissolved inorganic phosphorus\n",
      "          concentration (mol/kg)\n",
      "\n",
      "    eSit: Error (uncertainty) in total dissolved inorganic silicon\n",
      "          concentration (mol/kg)\n",
      "\n",
      "     epK: Error (uncertainty) in 7 key dissociation constants: pK0,\n",
      "          pK1, pK2, pKb, pKw, pKspa and pKspc. This is a vector. The\n",
      "          default is c(0.002, 0.0075, 0.015, 0.01, 0.01, 0.02, 0.02).\n",
      "\n",
      "     eBt: Error (uncertainty) in total boron, given as a relative\n",
      "          fractional error. The default is 0.02, which equates to a 2%\n",
      "          error\n",
      "\n",
      "  method: Case insensitive character string to choose the\n",
      "          error-propagation method: 1) Gaussian, 2) Method of Moments,\n",
      "          or 3) Monte Carlo).\n",
      "          These methods are specified using the 2-letter codes \"ga\",\n",
      "          \"mo\", or \"mc\", respectively. The default is \"ga\" (Gaussian).\n",
      "\n",
      "       r: Correlation coefficient between uncertainties of var1 and\n",
      "          var2 (only useful with method=\"mo\", i.e., ignored for the 2\n",
      "          other methods, the default is r=0.0\n",
      "\n",
      "    runs: Number of random samples (ignored unless method=\"mc\"; the\n",
      "          default is runs=10000\n",
      "\n",
      "    k1k2: \"l\" for using K1 and K2 from Lueker et al. (2000), \"m06\" from\n",
      "          Millero et al. (2006), \"m10\" from Millero (2010), \"w14\" from\n",
      "          Waters et al. (2014), and \"r\" from Roy et al. (1993). \"x\" is\n",
      "          the default flag; the default value is then \"l\", except if T\n",
      "          is outside the range 2 to 35oC and/or S is outside the range\n",
      "          19 to 43. In these cases, the default value is \"w14\".\n",
      "\n",
      "      kf: \"pf\" for using Kf from Perez and Fraga (1987) and \"dg\" for\n",
      "          using Kf from Dickson and Riley (1979 in Dickson and Goyet,\n",
      "          1994). \"x\" is the default flag; the default value is then\n",
      "          \"pf\", except if T is outside the range 9 to 33oC and/or S is\n",
      "          outside the range 10 to 40. In these cases, the default is\n",
      "          \"dg\".\n",
      "\n",
      "      ks: \"d\" for using Ks from Dickson (1990) and \"k\" for using Ks\n",
      "          from Khoo et al. (1977), default is \"d\"\n",
      "\n",
      " pHscale: \"T\" for the total scale, \"F\" for the free scale and \"SWS\" for\n",
      "          using the seawater scale, default is \"T\" (total scale)\n",
      "\n",
      "       b: Concentration of total boron. \"l10\" for the Lee et al. (2010)\n",
      "          formulation or \"u74\" for the Uppstrom (1974) formulation,\n",
      "          default is \"u74\"\n",
      "\n",
      "     gas: used to indicate the convention for INPUT pCO2, i.e., when it\n",
      "          is an input variable (flags 21 to 25): \"insitu\" indicates it\n",
      "          is referenced to in situ pressure and in situ temperature;\n",
      "          \"potential\" indicates it is referenced to 1 atm pressure and\n",
      "          potential temperature; and \"standard\" indicates it is\n",
      "          referenced to 1 atm pressure and in situ temperature. All\n",
      "          three options should give identical results at surface\n",
      "          pressure. This option is not used when pCO2 is not an input\n",
      "          variable (flags 1 to 15). The default is \"potential\".\n",
      "\n",
      "    warn: \"y\" to show warnings when T or S go beyond the valid range\n",
      "          for constants; \"n\" to supress warnings. The default is \"y\".\n",
      "\n",
      "     eos: \"teos10\" to specify T and S according to Thermodynamic\n",
      "          Equation Of Seawater - 2010 (TEOS-10); \"eos80\" to specify T\n",
      "          and S according to EOS-80.\n",
      "\n",
      "    long: longitude of data point, used when eos parameter is \"teos10\"\n",
      "          as a conversion parameter from absolute to practical\n",
      "          salinity.\n",
      "\n",
      "     lat: latitude of data point, used when eos parameter is \"teos10\".\n",
      "\n",
      "_\bD_\be_\bt_\ba_\bi_\bl_\bs:\n",
      "\n",
      "     This function requires users to specify each input uncertainty as\n",
      "     either the standard deviation or the standard error of the mean.\n",
      "     The latter implies much smaller propagated uncertainties, but is\n",
      "     appropriate only when interested in the error in the mean, not the\n",
      "     error of a given measurement. Beware that it is easy to fool\n",
      "     oneself when using the standard error of the mean rather than the\n",
      "     standard deviation.\n",
      "\n",
      "     This function requires different types of uncertainties:\n",
      "\n",
      "        • absolute uncertainties for evar1, evar2, eS, eT, ePt, eSit\n",
      "          (same units as the input data, e.g., mol/kg);\n",
      "\n",
      "        • uncertainties in pK units for epK; and\n",
      "\n",
      "        • uncertainties in relative fractional units (between 0.0 and\n",
      "          1.0) for eBt.\n",
      "\n",
      "     This function propagates uncertainties from input to output\n",
      "     variables using one of three methods:\n",
      "\n",
      "        • Gaussian: The Gaussian method is the standard technique for\n",
      "          estimating a computed variable's (z) second moment (its\n",
      "          variance or standard deviation) based on a first-order\n",
      "          approximation to z.  More precisely, we use here the basic\n",
      "          1st order, 2nd moment uncertainty analysis (a type of Taylor\n",
      "          expansion), assuming no covariance between input variables.\n",
      "          This is the approach used by Dickson and Riley (1978). It is\n",
      "          the default method.\n",
      "\n",
      "        • Method of moments: The method of moments is a more general\n",
      "          form of the Gaussian method. But in addition, it also\n",
      "          accounts for covariance between input variables.  In this\n",
      "          case, the 'errors' routine allows the user to specify a value\n",
      "          of the correlation coefficient 'r', having a value between\n",
      "          -1.0 and 1.0, to indicate the correlation between\n",
      "          uncertainties of the input pair of carbonate system\n",
      "          variables. That correlation is used to comput the covariance.\n",
      "          But by default, it is assumed that there is no covariance\n",
      "          (r=0.0).\n",
      "\n",
      "        • Monte Carlo: The Monte Carlo method is a brute-force approach\n",
      "          relying on repeated random sampling of input errors, adding\n",
      "          those to each input variables, calculating the corresponding\n",
      "          output variables for each sample, and finally assessing the\n",
      "          standard deviation in each output variables.\n",
      "\n",
      "     This function has many input parameters that are identical to\n",
      "     those in the carb function. For their details, refer to the 'carb'\n",
      "     documentation.\n",
      "\n",
      "     All parameters may be scalars or vectors except epK, eBt, method,\n",
      "     runs, and gas.\n",
      "\n",
      "        • runs and eBt must be scalars\n",
      "\n",
      "        • method and gas must each consist of a character string\n",
      "\n",
      "        • epK may be a vector of 7 values. In that case, it must list\n",
      "          errors for pK0, pK1, pK2, pKb, pKw, pKspa and pKspc,\n",
      "          respectively.  That set of errors is identical for all input\n",
      "          data.  Alternatively, users may specify 'epK=NULL' or 'epK=0'\n",
      "          to set all 7 values to zero and thus neglect errors in the\n",
      "          equilibrium constants.\n",
      "\n",
      "     In constrast, for evar1, evar2, r, eS, eT, ePt and eSit:\n",
      "\n",
      "        • if they are vectors, they represent errors associated with\n",
      "          each data point\n",
      "\n",
      "        • if they are scalars (single real numbers), they represent one\n",
      "          error value each associated to all data points\n",
      "\n",
      "     The same remark applies to parameter r (correlation coefficient).\n",
      "\n",
      "     long and lat are used as conversion parameters from absolute to\n",
      "     practical salinity: when seawater is not of standard composition,\n",
      "     practical salinity alone is not sufficient to compute absolute\n",
      "     salinity and vice-versa. One needs to know the density. When long\n",
      "     and lat are given, density is inferred from WOA silicate\n",
      "     concentration at given location. When they are not, an arbitrary\n",
      "     geographic point is chosen: mid equatorial Atlantic. Note that\n",
      "     this implies an error on computed salinity up to 0.02 g/kg.\n",
      "\n",
      "_\bV_\ba_\bl_\bu_\be:\n",
      "\n",
      "     The function returns a 2-dimensional dataframe, with the following\n",
      "     columns:\n",
      "\n",
      "        • Htotal error in [H+] concentration (mol/kg)\n",
      "\n",
      "        • pHtotal error in pH\n",
      "\n",
      "        • CO2total error in CO2 concentration (mol/kg)\n",
      "\n",
      "        • pCO2total error in \"standard\" pCO2, CO2 partial pressure\n",
      "          computed at in situ temperature and atmospheric pressure\n",
      "          (muatm)\n",
      "\n",
      "        • fCO2total error in \"standard\" fCO2, CO2 fugacity computed at\n",
      "          in situ temperature and atmospheric pressure (muatm)\n",
      "\n",
      "        • HCO3total error in HCO3 concentration (mol/kg)\n",
      "\n",
      "        • CO3total error in CO3 concentration (mol/kg)\n",
      "\n",
      "        • DICtotal error in DIC concentration (mol/kg)\n",
      "\n",
      "        • ALKtotal error in ALK, total alkalinity (mol/kg)\n",
      "\n",
      "        • OmegaAragonitetotal error in Omega aragonite (aragonite\n",
      "          saturation state)\n",
      "\n",
      "        • OmegaCalcitetotal error in Omega calcite (calcite saturation\n",
      "          state)\n",
      "\n",
      "     If all input data have the same 'flag' value, the returned data\n",
      "     frame does not show errors on input pair of carbonate system\n",
      "     variables. For example, if all input flags are 15, the input pair\n",
      "     is DIC and ALK; hence, errors on DIC and ALK are not returned.\n",
      "\n",
      "_\bC_\bo_\br_\br_\be_\bl_\ba_\bt_\bi_\bo_\bn _\bc_\bo_\be_\bf_\bf_\bi_\bc_\bi_\be_\bn_\bt:\n",
      "\n",
      "     By default, 'r' is zero. However, for some pairs the user may want\n",
      "     to specify a different value. For example, measurements of pCO2\n",
      "     and pH are often anti-correlated. The same goes for two other\n",
      "     pairs: 'CO2 and CO3' and 'pCO2 and CO3'.  But even for these\n",
      "     cases, care is needed before using non-zero values of 'r'.\n",
      "\n",
      "     When the user wishes to propagate errors for an individual\n",
      "     measurement, 'r' should ALWAYS be zero if each member of the input\n",
      "     pair is measured independently. In this case, we are interested in\n",
      "     the correlation between the uncertainties in those measurements,\n",
      "     not in the correlation between the measurements themselves.\n",
      "     Uncertainties from those measurements are probably not correlated\n",
      "     if they come from different instruments. Conversely, if users are\n",
      "     interested in the error in the mean of a distribution of\n",
      "     measurements (i.e., if they are propagating standard errors\n",
      "     instead of standard deviations), one should then also account for\n",
      "     the correlation between the measurements of the two variables of\n",
      "     the input pair.\n",
      "\n",
      "     For input pairs where one member is pH (flags 1, 6, 7, 8, 9, and\n",
      "     21), this 'errors' function automatically inverses the sign of\n",
      "     'r'. The reason for that is that the associated derivatives are\n",
      "     computed in terms of the hydrogen ion concentration (H+), not pH.\n",
      "     Therefore for each of these 6 flags, if the user wants to compute\n",
      "     their own 'r' that should be done by (1) using the H+\n",
      "     concentration instead of pH, and (2) inversing the sign of that\n",
      "     computed 'r' before passing it as an argument to this routine.\n",
      "     Usually though (when not calculating r for pH), the user may just\n",
      "     use the 'r' in the expected way.  For example, to include the\n",
      "     covariance term when there is a perfect anticorrelation of pH with\n",
      "     pCO2, one would use 'r=-1.0'.\n",
      "\n",
      "_\bC_\bo_\bm_\bp_\bu_\bt_\ba_\bt_\bi_\bo_\bn _\bt_\bi_\bm_\be:\n",
      "\n",
      "     Computation time depends on the method chosen; the Monte Carlo\n",
      "     method takes much longer to execute. The computational time\n",
      "     required for the Monte Carlo method is proportional to the number\n",
      "     of runs. More runs, implies improved accuracy: runs = 10000\n",
      "     appears a minimum to obtain an accuracy of less than 1%. Accuracy\n",
      "     is inversely proportional to the number of runs.\n",
      "\n",
      "     Computation time also depends on the chosen pair of input\n",
      "     variables. For example, with the input pair DIC and Total\n",
      "     alkalinity (flag=15), it is much longer than for input pair pH and\n",
      "     Total alkalinity (flag=8)\n",
      "\n",
      "_\bA_\bu_\bt_\bh_\bo_\br(_\bs):\n",
      "\n",
      "     Jean-Marie Epitalon, James Orr, and Jean-Pierre Gattuso<email:\n",
      "     gattuso@obs-vlfr.fr>\n",
      "\n",
      "_\bR_\be_\bf_\be_\br_\be_\bn_\bc_\be_\bs:\n",
      "\n",
      "     Dickson, A. G. and Riley, J. P., 1978 The effect of analytical\n",
      "     error on the evaluation of the components of the aquatic\n",
      "     carbon-dioxide system, _Marine Chemistry_, *6*, 77-85.\n",
      "\n",
      "     Dickson A. G. and Riley J. P., 1979 The estimation of acid\n",
      "     dissociation constants in seawater media from potentiometric\n",
      "     titrations with strong base. I. The ionic product of water.\n",
      "     _Marine Chemistry_ *7*, 89-99.\n",
      "\n",
      "     Dickson A. G., 1990 Standard potential of the reaction: AgCI(s) +\n",
      "     1/2H2(g) = Ag(s) + HCI(aq), and the standard acidity constant of\n",
      "     the ion HSO4 in synthetic sea water from 273.15 to 318.15 K.\n",
      "     _Journal of Chemical Thermodynamics_ *22*, 113-127.\n",
      "\n",
      "     Dickson A. G., Sabine C. L. and Christian J. R., 2007 Guide to\n",
      "     best practices for ocean CO2 measurements. _PICES Special\n",
      "     Publication_ *3*, 1-191.\n",
      "\n",
      "     Khoo H. K., Ramette R. W., Culberson C. H. and Bates R. G., 1977\n",
      "     Determination of hydrogen ion concentration in seawater from 5 to\n",
      "     40oC: standard potentials at salinities from 20 to 45. _Analytical\n",
      "     Chemistry_ *22*, vol49 29-34.\n",
      "\n",
      "     Lee K., Tae-Wook K., Byrne R.H., Millero F.J., Feely R.A. and Liu\n",
      "     Y-M, 2010 The universal ratio of the boron to chlorinity for the\n",
      "     North Pacific and North Atlantoc oceans. _Geochimica et\n",
      "     Cosmochimica Acta_ *74* 1801-1811.\n",
      "\n",
      "     Lueker T. J., Dickson A. G. and Keeling C. D., 2000 Ocean pCO2\n",
      "     calculated from dissolved inorganic carbon, alkalinity, and\n",
      "     equations for K1 and K2: validation based on laboratory\n",
      "     measurements of CO2 in gas and seawater at equilibrium. _Marine\n",
      "     Chemistry_ *70* 105-119.\n",
      "\n",
      "     Millero F. J., 1995. Thermodynamics of the carbon dioxide system\n",
      "     in the oceans. _Geochimica Cosmochimica Acta_ *59*: 661-677.\n",
      "\n",
      "     Millero F. J., 2010. Carbonate constant for estuarine waters.\n",
      "     _Marine and Freshwater Research_ *61*: 139-142.\n",
      "\n",
      "     Millero F. J., Graham T. B., Huang F., Bustos-Serrano H. and\n",
      "     Pierrot D., 2006. Dissociation constants of carbonic acid in\n",
      "     seawater as a function of salinity and temperature.  _Marine\n",
      "     Chemistry_ *100*, 80-84.\n",
      "\n",
      "     Orr J. C., Epitalon J.-M. and Gattuso J.-P., 2015. Comparison of\n",
      "     seven packages that compute ocean carbonate chemistry.\n",
      "     _Biogeosciences_ *12*, 1483-1510.\n",
      "\n",
      "     Perez F. F. and Fraga F., 1987 Association constant of fluoride\n",
      "     and hydrogen ions in seawater. _Marine Chemistry_ *21*, 161-168.\n",
      "\n",
      "     Roy R. N., Roy L. N., Vogel K. M., Porter-Moore C., Pearson T.,\n",
      "     Good C. E., Millero F. J. and Campbell D. M., 1993. The\n",
      "     dissociation constants of carbonic acid in seawater at salinities\n",
      "     5 to 45 and temperatures 0 to 45oC. _Marine Chemistry_ *44*,\n",
      "     249-267.\n",
      "\n",
      "     Uppstrom L.R., 1974 The boron/chlorinity ratio of the deep-sea\n",
      "     water from the Pacific Ocean. _Deep-Sea Research I_ *21* 161-162.\n",
      "\n",
      "     Waters, J., Millero, F. J., and Woosley, R. J., 2014. Corrigendum\n",
      "     to ``The free proton concentration scale for seawater pH'',\n",
      "     [MARCHE: 149 (2013) 8-22], _Marine Chemistry_, *165*, 66-67.\n",
      "\n",
      "     Weiss, R. F., 1974. Carbon dioxide in water and seawater: the\n",
      "     solubility of a non-ideal gas, _Marine Chemistry_, *2*, 203-215.\n",
      "\n",
      "     Weiss, R. F. and Price, B. A., 1980. Nitrous oxide solubility in\n",
      "     water and seawater, _Marine Chemistry_, *8*, 347-359.\n",
      "\n",
      "     Zeebe R. E. and Wolf-Gladrow D. A., 2001 _CO2 in seawater:\n",
      "     equilibrium, kinetics, isotopes_. Amsterdam: Elsevier, 346 pp.\n",
      "\n",
      "_\bE_\bx_\ba_\bm_\bp_\bl_\be_\bs:\n",
      "\n",
      "     ## 1) For the input pair ALK and DIC (var1 and var2 when flag=15),\n",
      "     ## compute resulting uncertainty from given uncertainty on ALK and DIC (5 umol/kg)\n",
      "     ## and default uncertainties in dissociation constants and total boron\n",
      "     ## using the default method (Gaussian)\n",
      "     errors(flag=15, var1=2300e-6, var2=2000e-6, S=35, T=25, P=0, Patm=1.0, Pt=0, Sit=0, \n",
      "            evar1=5e-6, evar2=5e-6, eS=0, eT=0, ePt=0, eSit=0, \n",
      "            pHscale=\"T\", kf=\"pf\", k1k2=\"l\", ks=\"d\", b=\"u74\")\n",
      "     ## Typical output:\n",
      "     ## H             pH          CO2           fCO2      pCO2      HCO3          ...\n",
      "     ## 3.721614e-10  0.01796767  5.441869e-07  19.25338  19.31504  9.170116e-06  ...\n",
      "     \n",
      "     ## 2) Do the same as in one, but assign a 4% uncertainty to total boron\n",
      "     ##    This uncertainty is the amount by which estimates from Lee et al (2010) and \n",
      "     ##    Uppstrom (1974) differ. The default for the latter is eBt=0.02.\n",
      "     errors(flag=15, var1=2300e-6, var2=2000e-6, S=35, T=25, P=0, Patm=1.0, Pt=0, Sit=0, \n",
      "            evar1=5e-6, evar2=5e-6, eS=0, eT=0, ePt=0, eSit=0, eBt=0.04,\n",
      "            pHscale=\"T\", kf=\"pf\", k1k2=\"l\", ks=\"d\", b=\"u74\")\n",
      "     \n",
      "     ## 3) For the input pair pH and ALK (var1 and var2 when flag=8)\n",
      "     ## compute standard errors in output variables from errors in input variables, i.e., \n",
      "     ## for pH (0.005 pH units) and in ALK (5 umol/kg), along with\n",
      "     ## errors in total dissolved inorganic phosphorus (0.1 umol/kg) and\n",
      "     ## total dissolved inorganic silicon (2 umol/kg) concentrations, while\n",
      "     ## assuming no uncertainty in dissociation constants & boron, using the Gaussian method:\n",
      "     errors(flag=8, var1=8.25, var2=2300e-6,  S=35, T=25, P=0, Patm=1.0, Pt=0, Sit=0, \n",
      "            evar1=0.005, evar2=5e-6, eS=0, eT=0, ePt=0.1, eSit=2, epK=0, eBt=0,\n",
      "            method=\"ga\", pHscale=\"T\", kf=\"pf\", k1k2=\"l\", ks=\"d\", b=\"u74\")\n",
      "     \n",
      "     ## 4) For the input pair pCO2 and pH (var1 and var2 when flag=21)\n",
      "     ## compute standard errors in output variables from errors in input variables, i.e., \n",
      "     ## for pCO2 (2 uatm) and pH (0.005 pH units), with no uncertainties in Pt and Sit\n",
      "     ## nor in the dissociation constants BUT a perfect anticorrelation between pCO2 and pH,\n",
      "     ## (the input pair) using the Method of moments:\n",
      "     errors(flag=21, var1=400, var2=8.1,  S=35, T=25, P=0, Patm=1.0, Pt=0, Sit=0, \n",
      "            evar1=2, evar2=0.005, eS=0, eT=0, ePt=0.0, eSit=0, epK=0, eBt=0, \n",
      "            method=\"mo\", r=-1.0, pHscale=\"T\", kf=\"pf\", k1k2=\"l\", ks=\"d\", b=\"u74\")\n",
      "     \n",
      "     ## 5) Use vectors as arguments and compute errors on all output variables\n",
      "     ## using Monte Carlo method taking into account input errors on pH, ALK, DIC\n",
      "     ## and dissociation constants (pKx)\n",
      "     flag <- c(8, 15, 8)\n",
      "     var1 <- c(8.2, 0.002394, 8.25)\n",
      "     var2 <- c(0.002343955, 0.002017, 2400e-6)\n",
      "     S <- c(35, 35, 30)\n",
      "     T <- c(25, 25, 22)\n",
      "     P <- 0\n",
      "     Pt <- 0\n",
      "     Sit <- 0\n",
      "     evar1 <- c(0.005, 2e-6, 0.005)\n",
      "     evar2 <- c(2e-6, 2e-6, 2e-6)\n",
      "     epKx <- c(0.002, 0.01, 0.02, 0.01, 0.01, 0.01, 0.01)\n",
      "     eBtx = 0.01\n",
      "     method <- \"mc\"\n",
      "     kf <- \"pf\"\n",
      "     k1k2 <- \"l\"\n",
      "     pHscale <- \"T\"\n",
      "     b <- \"u74\"\n",
      "     ## NOTE that the following is executable but enclosed in \"donttest\" \n",
      "     ## because it takes too long to run when submiting to CRAN\n",
      "     ## and is therefore rejected\n",
      "     errors(flag=flag, var1=var1, var2=var2, S=S, T=T, P=P, Pt=Pt, Sit=Sit, \n",
      "            evar1=evar1, evar2=evar2, eS=0, eT=0, ePt=0, eSit=0, epK=epKx, eBt=eBtx,\n",
      "            method=method, runs=10000, kf=kf, k1k2=k1k2, pHscale=pHscale, b=b)\n",
      "     \n"
     ]
    }
   ],
   "source": [
    "%%R\n",
    "?errors"
   ]
  },
  {
   "cell_type": "markdown",
   "metadata": {},
   "source": [
    "### 2.1 `carb` routine computes derived variables but does not to propagate uncertainties"
   ]
  },
  {
   "cell_type": "code",
   "execution_count": 8,
   "metadata": {
    "collapsed": false
   },
   "outputs": [
    {
     "data": {
      "text/plain": [
       "  flag  S  T Patm P       pH          CO2     fCO2     pCO2  fCO2pot  pCO2pot\n",
       "1   15 35 18    1 0 8.152525 1.018509e-05 297.0486 298.0854 297.0854 298.1224\n",
       "  fCO2insitu pCO2insitu        HCO3          CO3   DIC    ALK OmegaAragonite\n",
       "1   297.0486   298.0854 0.001779217 0.0002105975 0.002 0.0023       3.252296\n",
       "  OmegaCalcite\n",
       "1     5.029397\n"
      ]
     },
     "metadata": {},
     "output_type": "display_data"
    }
   ],
   "source": [
    "%%R\n",
    "# Standard seacarb routine to compute derived variables (carb, not errors)\n",
    "vars <- carb(flag=15, var1=2300e-6, var2=2000e-6, S=35, T=18, P=0, Patm=1.0, Pt=0, Sit=0, \n",
    "            pHscale=\"T\", kf=\"pf\", k1k2=\"l\", ks=\"d\", b=\"u74\")\n",
    "\n",
    "print(vars)"
   ]
  },
  {
   "cell_type": "markdown",
   "metadata": {},
   "source": [
    "### 2.2 Use the `errors` routine to propagate uncertainties \n",
    "\n",
    "It is used just like the `carb` routine except that a middle line is added to specify the input uncertainties"
   ]
  },
  {
   "cell_type": "markdown",
   "metadata": {},
   "source": [
    "#### 2.2.1 $A_\\text{T}$-$C_\\text{T}$ pair with default uncertainties for the constants (epK) and total boron (eBt)\n",
    "\n",
    "By default:\n",
    "* epK=c(0.002, 0.0075, 0.015, 0.01, 0.01, 0.02, 0.02)\n",
    "* eBt=0.02\n",
    "\n",
    "It is strongly recommended to use the default values for epK and eBt. These non-zero values lead to significant propagated uncertainties in the calculated variables. It is NOT justified to consider that those uncertainties are negligible, as assumed is some previous work. However, in later examples we do make calculations with epK=NULL and eBt=NULL in order to show the relative importance of the default unertainties for those parameters."
   ]
  },
  {
   "cell_type": "markdown",
   "metadata": {},
   "source": [
    "#### The easiest way to use the default uncertainties for epK and eBt is simply not to include those arguments in the call to errors (as below)."
   ]
  },
  {
   "cell_type": "code",
   "execution_count": 9,
   "metadata": {
    "collapsed": false,
    "scrolled": true
   },
   "outputs": [
    {
     "data": {
      "text/plain": [
       "             H         pH          CO2     fCO2     pCO2         HCO3\n",
       "1 2.254981e-10 0.01088688 3.276592e-07 11.68351 11.72093 2.819879e-06\n",
       "2 3.272717e-10 0.01580043 4.775421e-07 16.91805 16.97223 9.008468e-06\n",
       "           CO3 OmegaAragonite OmegaCalcite\n",
       "1 2.668916e-06      0.1616525    0.2452496\n",
       "2 5.385653e-06      0.1778849    0.2698765\n"
      ]
     },
     "metadata": {},
     "output_type": "display_data"
    }
   ],
   "source": [
    "%%R\n",
    "err <- errors(flag=15, var1=2300e-6, var2=2000e-6, S=35, T=25, P=0, Patm=1.0, Pt=0, Sit=0, \n",
    "            evar1=c(0e-6,5e-6), evar2=c(0e-6,5e-6), eS=0, eT=0, ePt=0, eSit=0, \n",
    "            pHscale=\"T\", kf=\"pf\", k1k2=\"l\", ks=\"d\", b=\"u74\")\n",
    "\n",
    "#print(err)\n",
    "err"
   ]
  },
  {
   "cell_type": "markdown",
   "metadata": {},
   "source": [
    "##### Do exactly the same but specify the default values explicitly"
   ]
  },
  {
   "cell_type": "code",
   "execution_count": 10,
   "metadata": {
    "collapsed": false
   },
   "outputs": [
    {
     "data": {
      "text/plain": [
       "             H         pH          CO2     fCO2     pCO2         HCO3\n",
       "1 2.254981e-10 0.01088688 3.276592e-07 11.68351 11.72093 2.819879e-06\n",
       "2 3.272717e-10 0.01580043 4.775421e-07 16.91805 16.97223 9.008468e-06\n",
       "           CO3 OmegaAragonite OmegaCalcite\n",
       "1 2.668916e-06      0.1616525    0.2452496\n",
       "2 5.385653e-06      0.1778849    0.2698765\n"
      ]
     },
     "metadata": {},
     "output_type": "display_data"
    }
   ],
   "source": [
    "%%R\n",
    "epK=c(0.002, 0.0075, 0.015, 0.01, 0.01, 0.02, 0.02)\n",
    "eBt=0.02\n",
    "err <- errors(flag=15, var1=2300e-6, var2=2000e-6, S=35, T=25, P=0, Patm=1.0, Pt=0, Sit=0, \n",
    "            evar1=c(0,5e-6), evar2=c(0,5e-6), eS=0, eT=0, ePt=0, eSit=0, epK=epK, eBt=eBt,\n",
    "            pHscale=\"T\", kf=\"pf\", k1k2=\"l\", ks=\"d\", b=\"u74\")\n",
    "\n",
    "#print(err)\n",
    "err"
   ]
  },
  {
   "cell_type": "markdown",
   "metadata": {},
   "source": [
    "#### 2.2.3 $A_\\text{T}$-$C_\\text{T}$ pair but with zero uncertainties for the constants and total boron (unrealistic)"
   ]
  },
  {
   "cell_type": "code",
   "execution_count": 11,
   "metadata": {
    "collapsed": false
   },
   "outputs": [
    {
     "data": {
      "text/plain": [
       "             H         pH          CO2     fCO2     pCO2         HCO3\n",
       "1 0.000000e+00 0.00000000 0.000000e+00  0.00000  0.00000 0.000000e+00\n",
       "2 2.371863e-10 0.01145118 3.473987e-07 12.23585 12.27503 8.555746e-06\n",
       "           CO3 OmegaAragonite OmegaCalcite\n",
       "1 0.000000e+00     0.00000000     0.000000\n",
       "2 4.677835e-06     0.07423961     0.112632\n"
      ]
     },
     "metadata": {},
     "output_type": "display_data"
    }
   ],
   "source": [
    "%%R\n",
    "epK=NULL\n",
    "eBt=NULL\n",
    "err <- errors(flag=15, var1=2300e-6, var2=2000e-6, S=35, T=25, P=0, Patm=1.0, Pt=0, Sit=0, \n",
    "            evar1=c(0e-6,5e-6), evar2=c(0e-6,5e-6), eS=0, eT=0, ePt=0, eSit=0, epK=epK, eBt=eBt,\n",
    "            pHscale=\"T\", kf=\"pf\", k1k2=\"l\", ks=\"d\", b=\"u74\")\n",
    "\n",
    "err"
   ]
  },
  {
   "cell_type": "markdown",
   "metadata": {},
   "source": [
    "#####  Another way to specify the NULL values for epK and eBt"
   ]
  },
  {
   "cell_type": "code",
   "execution_count": 12,
   "metadata": {
    "collapsed": false
   },
   "outputs": [
    {
     "data": {
      "text/plain": [
       "             H         pH          CO2     fCO2     pCO2         HCO3\n",
       "1 0.000000e+00 0.00000000 0.000000e+00  0.00000  0.00000 0.000000e+00\n",
       "2 2.371863e-10 0.01145118 3.473987e-07 12.23585 12.27503 8.555746e-06\n",
       "           CO3 OmegaAragonite OmegaCalcite\n",
       "1 0.000000e+00     0.00000000     0.000000\n",
       "2 4.677835e-06     0.07423961     0.112632\n"
      ]
     },
     "metadata": {},
     "output_type": "display_data"
    }
   ],
   "source": [
    "%%R\n",
    "epK=rep(0.0, 7)\n",
    "eBt=0.0\n",
    "err <- errors(flag=15, var1=2300e-6, var2=2000e-6, S=35, T=25, P=0, Patm=1.0, Pt=0, Sit=0, \n",
    "            evar1=c(0,5e-6), evar2=c(0,5e-6), eS=0, eT=0, ePt=0, eSit=0, epK=epK, eBt=eBt,\n",
    "            pHscale=\"T\", kf=\"pf\", k1k2=\"l\", ks=\"d\", b=\"u74\")\n",
    "\n",
    "#print(err)\n",
    "err"
   ]
  },
  {
   "cell_type": "markdown",
   "metadata": {},
   "source": [
    "##### Specify the NULL values for epK but default value for eBt"
   ]
  },
  {
   "cell_type": "code",
   "execution_count": 13,
   "metadata": {
    "collapsed": false
   },
   "outputs": [
    {
     "data": {
      "text/plain": [
       "             H          pH          CO2      fCO2      pCO2         HCO3\n",
       "1 6.049570e-11 0.002920687 8.317328e-08  2.929474  2.938856 1.207177e-06\n",
       "2 2.472539e-10 0.011792217 3.609542e-07 12.713288 12.754006 8.583100e-06\n",
       "           CO3 OmegaAragonite OmegaCalcite\n",
       "1 1.290350e-06     0.02047850   0.03106878\n",
       "2 4.796302e-06     0.07611973   0.11548438\n"
      ]
     },
     "metadata": {},
     "output_type": "display_data"
    }
   ],
   "source": [
    "%%R\n",
    "epK=rep(0.0, 7)\n",
    "eBt=0.02\n",
    "err <- errors(flag=15, var1=2300e-6, var2=2000e-6, S=35, T=25, P=0, Patm=1.0, Pt=0, Sit=0, \n",
    "            evar1=c(0,5e-6), evar2=c(0,5e-6), eS=0, eT=0, ePt=0, eSit=0, epK=epK, eBt=eBt,\n",
    "            pHscale=\"T\", kf=\"pf\", k1k2=\"l\", ks=\"d\", b=\"l10\")\n",
    "\n",
    "#print(err)\n",
    "err"
   ]
  },
  {
   "cell_type": "markdown",
   "metadata": {},
   "source": [
    "#### 2.2.4 Propagate uncertainties with a different input pair (pCO$_2$-pH) "
   ]
  },
  {
   "cell_type": "code",
   "execution_count": 14,
   "metadata": {
    "collapsed": false
   },
   "outputs": [
    {
     "data": {
      "text/plain": [
       "           CO2     fCO2         HCO3          CO3          DIC         ALK\n",
       "1 9.289899e-08 1.992793 5.575484e-05 1.065855e-05 6.448462e-05 7.49822e-05\n",
       "  OmegaAragonite OmegaCalcite\n",
       "1      0.2068844     0.319929\n"
      ]
     },
     "metadata": {},
     "output_type": "display_data"
    }
   ],
   "source": [
    "%%R\n",
    "epK=c(0.002, 0.0075, 0.015, 0.01, 0.01, 0.02, 0.02)\n",
    "eBt = 0.02\n",
    "\n",
    "err <- errors(flag=21, var1=400, var2=8.05, S=35, T=18, P=0, Patm=1.0, Pt=0, Sit=0, \n",
    "            evar1=2, evar2=0.01, eS=0, eT=0, ePt=0, eSit=0, epK=epK, eBt=eBt, method='mo',r=0.0,\n",
    "            pHscale=\"T\", kf=\"pf\", k1k2=\"l\", ks=\"d\", b=\"u74\")\n",
    "err"
   ]
  },
  {
   "cell_type": "markdown",
   "metadata": {},
   "source": [
    "#### 2.2.5 For more complex examples of using seacarb's `errors` routine\n",
    "\n",
    "Just cut & paste what you like from the output of the cell below into a new jupyter notebook cell & try them out, interactively"
   ]
  },
  {
   "cell_type": "code",
   "execution_count": 15,
   "metadata": {
    "collapsed": true
   },
   "outputs": [
    {
     "data": {
      "text/plain": [
       "\n",
       "errors> ## 1) For the input pair ALK and DIC (var1 and var2 when flag=15),\n",
       "errors> ## compute resulting uncertainty from given uncertainty on ALK and DIC (5 umol/kg)\n",
       "errors> ## and default uncertainties in dissociation constants and total boron\n",
       "errors> ## using the default method (Gaussian)\n",
       "errors> errors(flag=15, var1=2300e-6, var2=2000e-6, S=35, T=25, P=0, Patm=1.0, Pt=0, Sit=0, \n",
       "errors+        evar1=5e-6, evar2=5e-6, eS=0, eT=0, ePt=0, eSit=0, \n",
       "errors+        pHscale=\"T\", kf=\"pf\", k1k2=\"l\", ks=\"d\", b=\"u74\")\n",
       "             H         pH          CO2     fCO2     pCO2         HCO3\n",
       "1 3.272717e-10 0.01580043 4.775421e-07 16.91805 16.97223 9.008468e-06\n",
       "           CO3 OmegaAragonite OmegaCalcite\n",
       "1 5.385653e-06      0.1778849    0.2698765\n",
       "\n",
       "errors> ## Typical output:\n",
       "errors> ## H             pH          CO2           fCO2      pCO2      HCO3          ...\n",
       "errors> ## 3.721614e-10  0.01796767  5.441869e-07  19.25338  19.31504  9.170116e-06  ...\n",
       "errors> \n",
       "errors> ## 2) Do the same as in one, but assign a 4% uncertainty to total boron\n",
       "errors> ##    This uncertainty is the amount by which estimates from Lee et al (2010) and \n",
       "errors> ##    Uppstrom (1974) differ. The default for the latter is eBt=0.02.\n",
       "errors> errors(flag=15, var1=2300e-6, var2=2000e-6, S=35, T=25, P=0, Patm=1.0, Pt=0, Sit=0, \n",
       "errors+        evar1=5e-6, evar2=5e-6, eS=0, eT=0, ePt=0, eSit=0, eBt=0.04,\n",
       "errors+        pHscale=\"T\", kf=\"pf\", k1k2=\"l\", ks=\"d\", b=\"u74\")\n",
       "             H         pH          CO2     fCO2     pCO2         HCO3\n",
       "1 3.424148e-10 0.01653153 4.972079e-07 17.60683 17.66322 9.229877e-06\n",
       "           CO3 OmegaAragonite OmegaCalcite\n",
       "1 5.798189e-06      0.1811219    0.2747874\n",
       "\n",
       "errors> ## 3) For the input pair pH and ALK (var1 and var2 when flag=8)\n",
       "errors> ## compute standard errors in output variables from errors in input variables, i.e., \n",
       "errors> ## for pH (0.005 pH units) and in ALK (5 umol/kg), along with\n",
       "errors> ## errors in total dissolved inorganic phosphorus (0.1 umol/kg) and\n",
       "errors> ## total dissolved inorganic silicon (2 umol/kg) concentrations, while\n",
       "errors> ## assuming no uncertainty in dissociation constants & boron, using the Gaussian method:\n",
       "errors> errors(flag=8, var1=8.25, var2=2300e-6,  S=35, T=25, P=0, Patm=1.0, Pt=0, Sit=0, \n",
       "errors+        evar1=0.005, evar2=5e-6, eS=0, eT=0, ePt=0.1, eSit=2, epK=0, eBt=0,\n",
       "errors+        method=\"ga\", pHscale=\"T\", kf=\"pf\", k1k2=\"l\", ks=\"d\", b=\"u74\")\n",
       "           CO2     fCO2    pCO2      HCO3      CO3       DIC OmegaAragonite\n",
       "1 0.0005191755 18286.05 18344.6 0.1312687 0.025247 0.1570349       400.6827\n",
       "  OmegaCalcite\n",
       "1     607.8921\n",
       "\n",
       "errors> ## 4) For the input pair pCO2 and pH (var1 and var2 when flag=21)\n",
       "errors> ## compute standard errors in output variables from errors in input variables, i.e., \n",
       "errors> ## for pCO2 (2 uatm) and pH (0.005 pH units), with no uncertainties in Pt and Sit\n",
       "errors> ## nor in the dissociation constants BUT a perfect anticorrelation between pCO2 and pH,\n",
       "errors> ## (the input pair) using the Method of moments:\n",
       "errors> errors(flag=21, var1=400, var2=8.1,  S=35, T=25, P=0, Patm=1.0, Pt=0, Sit=0, \n",
       "errors+        evar1=2, evar2=0.005, eS=0, eT=0, ePt=0.0, eSit=0, epK=0, eBt=0, \n",
       "errors+        method=\"mo\", r=-1.0, pHscale=\"T\", kf=\"pf\", k1k2=\"l\", ks=\"d\", b=\"u74\")\n",
       "           CO2     fCO2         HCO3          CO3          DIC         ALK\n",
       "1 5.659392e-08 1.993314 1.319545e-05 4.972697e-06 1.811155e-05 2.41038e-05\n",
       "  OmegaAragonite OmegaCalcite\n",
       "1     0.07891921    0.1197316\n",
       "\n",
       "errors> ## 5) Use vectors as arguments and compute errors on all output variables\n",
       "errors> ## using Monte Carlo method taking into account input errors on pH, ALK, DIC\n",
       "errors> ## and dissociation constants (pKx)\n",
       "errors> flag <- c(8, 15, 8)\n",
       "\n",
       "errors> var1 <- c(8.2, 0.002394, 8.25)\n",
       "\n",
       "errors> var2 <- c(0.002343955, 0.002017, 2400e-6)\n",
       "\n",
       "errors> S <- c(35, 35, 30)\n",
       "\n",
       "errors> T <- c(25, 25, 22)\n",
       "\n",
       "errors> P <- 0\n",
       "\n",
       "errors> Pt <- 0\n",
       "\n",
       "errors> Sit <- 0\n",
       "\n",
       "errors> evar1 <- c(0.005, 2e-6, 0.005)\n",
       "\n",
       "errors> evar2 <- c(2e-6, 2e-6, 2e-6)\n",
       "\n",
       "errors> epKx <- c(0.002, 0.01, 0.02, 0.01, 0.01, 0.01, 0.01)\n",
       "\n",
       "errors> eBtx = 0.01\n",
       "\n",
       "errors> method <- \"mc\"\n",
       "\n",
       "errors> kf <- \"pf\"\n",
       "\n",
       "errors> k1k2 <- \"l\"\n",
       "\n",
       "errors> pHscale <- \"T\"\n",
       "\n",
       "errors> b <- \"u74\"\n",
       "\n",
       "errors> ## NOTE that the following is executable but enclosed in \"donttest\" \n",
       "errors> ## because it takes too long to run when submiting to CRAN\n",
       "errors> ## and is therefore rejected\n",
       "errors> ## No test: \n",
       "errors> errors(flag=flag, var1=var1, var2=var2, S=S, T=T, P=P, Pt=Pt, Sit=Sit, \n",
       "errors+        evar1=evar1, evar2=evar2, eS=0, eT=0, ePt=0, eSit=0, epK=epKx, eBt=eBtx,\n",
       "errors+        method=method, runs=10000, kf=kf, k1k2=k1k2, pHscale=pHscale, b=b)\n",
       "             H          pH          CO2      fCO2      pCO2         HCO3\n",
       "1 7.158697e-11 0.004926702 2.188695e-07  7.722164  7.746888 2.030816e-05\n",
       "2 2.402963e-10 0.014856660 3.462172e-07 12.204468 12.243547 5.129057e-06\n",
       "3 6.503036e-11 0.005021727 2.253305e-07  7.161183  7.184970 1.970306e-05\n",
       "           CO3          DIC          ALK OmegaAragonite OmegaCalcite\n",
       "1 9.948016e-06 1.071734e-05 2.011617e-06      0.1879268    0.2875866\n",
       "2 4.002324e-06 1.989454e-06 1.979045e-06      0.1166622    0.1777964\n",
       "3 9.692757e-06 1.033372e-05 1.988145e-06      0.1864781    0.2868132\n",
       "\n",
       "errors> ## End(No test)\n",
       "errors> \n",
       "errors> \n",
       "errors> \n"
      ]
     },
     "metadata": {},
     "output_type": "display_data"
    }
   ],
   "source": [
    "%%R\n",
    "example(errors)"
   ]
  }
 ],
 "metadata": {
  "anaconda-cloud": {},
  "kernelspec": {
   "display_name": "Python 2",
   "language": "python",
   "name": "python2"
  },
  "language_info": {
   "codemirror_mode": {
    "name": "ipython",
    "version": 2
   },
   "file_extension": ".py",
   "mimetype": "text/x-python",
   "name": "python",
   "nbconvert_exporter": "python",
   "pygments_lexer": "ipython2",
   "version": "2.7.13"
  }
 },
 "nbformat": 4,
 "nbformat_minor": 0
}
