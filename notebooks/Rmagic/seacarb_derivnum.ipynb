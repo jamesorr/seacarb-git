{
 "cells": [
  {
   "cell_type": "markdown",
   "metadata": {},
   "source": [
    "# Use `seacarb`'s `derivnum` routine to compute sensitivities"
   ]
  },
  {
   "cell_type": "markdown",
   "metadata": {},
   "source": [
    "<hr>\n",
    "James Orr - 27 February 2018<br>\n",
    "\n",
    "<img align=\"left\" width=\"60%\" src=\"http://www.lsce.ipsl.fr/Css/img/banniere_LSCE_75.png\" \\><br><br>\n",
    "\n",
    "LSCE/IPSL, CEA-CNRS-UVSQ, Gif-sur-Yvette, France\n",
    "<hr>"
   ]
  },
  {
   "cell_type": "markdown",
   "metadata": {},
   "source": [
    "#### Table of Contents:\n",
    "    1. Setup, install seacarb (one-time only), load seacarb (once per session)\n",
    "    2. Compute sensitivities with derivnum routine\n"
   ]
  },
  {
   "cell_type": "markdown",
   "metadata": {},
   "source": [
    "## 1. Setup "
   ]
  },
  {
   "cell_type": "markdown",
   "metadata": {},
   "source": [
    "#### Run interactively\n",
    "\n",
    "If you are visualizing this after clicking on the link to this file on github, you are visualizing the HTML version of a jupyter notebook. Alternatively, you may run cells interactively and modify them if you have `jupyter notebook` installed on your machine.  To install that software, just download and the anaconda open software installer for your computing platform (Windows, OS X, or Linux) from https://www.continuum.io/downloads and then follow the easy install instructions at\n",
    "\n",
    "https://docs.continuum.io/anaconda/install#\n",
    "\n",
    "Then just download this `jupyter notebook` file as well as the seacarb package (see section 1.2 below).  Afterwards, you'll only need to install `Rmagic`, available in the `rpy2` package with the 2 lines of commands shown in the following section."
   ]
  },
  {
   "cell_type": "markdown",
   "metadata": {},
   "source": [
    "#### Install `R` and `Rmagic`\n",
    "\n",
    "Before launching the notebook with the usual command `jupyter notebook`, it is necessary to install the Rmagic functionality.  That is now in the `rpy2` package of conda.  So to install that, at the Unix prompt, just enter the following 2 commands:\n",
    "\n",
    "`conda install -c r r-essentials`\n",
    "\n",
    "`conda install rpy2`\n",
    "\n",
    "That only needs to be done once. Now go to the directory with this notebook, and at the Unix prompt, give the `jupyter notebook` command"
   ]
  },
  {
   "cell_type": "markdown",
   "metadata": {},
   "source": [
    "#### Documentation for `Rmagic`\n",
    "\n",
    "Details on using Rmagic are here: https://ipython.org/ipython-doc/2/config/extensions/rmagic.html"
   ]
  },
  {
   "cell_type": "markdown",
   "metadata": {},
   "source": [
    "### 1.1 Allow use of the `Rmagic` extension (through the `rpy2` package)"
   ]
  },
  {
   "cell_type": "code",
   "execution_count": 1,
   "metadata": {
    "collapsed": false
   },
   "outputs": [],
   "source": [
    "%load_ext rpy2.ipython"
   ]
  },
  {
   "cell_type": "markdown",
   "metadata": {},
   "source": [
    "### 1.2  Install seacarb and call library (need to install `seacarb` only once unlesss updating versions)"
   ]
  },
  {
   "cell_type": "markdown",
   "metadata": {},
   "source": [
    "#### Uncomment last line in cell below and execute cell if you want to install or reinstall `seacarb` (no need to repeat this operation)"
   ]
  },
  {
   "cell_type": "code",
   "execution_count": 2,
   "metadata": {
    "collapsed": false
   },
   "outputs": [
    {
     "data": {
      "text/plain": [
       "NULL\n"
      ]
     },
     "metadata": {},
     "output_type": "display_data"
    }
   ],
   "source": [
    "%%R\n",
    "#install.packages('seacarb')\n",
    "install.packages('seacarb', repos=\"http://ftp.igh.cnrs.fr/pub/CRAN/\")"
   ]
  },
  {
   "cell_type": "markdown",
   "metadata": {},
   "source": [
    "#### Use seacarb library (only need to invoke this once per session)"
   ]
  },
  {
   "cell_type": "code",
   "execution_count": 3,
   "metadata": {
    "collapsed": false,
    "scrolled": true
   },
   "outputs": [],
   "source": [
    "%%R\n",
    "library(seacarb)"
   ]
  },
  {
   "cell_type": "markdown",
   "metadata": {},
   "source": [
    "#### Version number of seacarb that you are using"
   ]
  },
  {
   "cell_type": "code",
   "execution_count": 4,
   "metadata": {
    "collapsed": false
   },
   "outputs": [
    {
     "data": {
      "text/plain": [
       "[1] ‘3.2.8’\n"
      ]
     },
     "metadata": {},
     "output_type": "display_data"
    }
   ],
   "source": [
    "%%R\n",
    "packageVersion('seacarb')"
   ]
  },
  {
   "cell_type": "markdown",
   "metadata": {},
   "source": [
    "## 2.  Compute sensitivities (partial derivatives) with `derivnum` routine"
   ]
  },
  {
   "cell_type": "code",
   "execution_count": 5,
   "metadata": {
    "collapsed": false
   },
   "outputs": [
    {
     "name": "stdout",
     "output_type": "stream",
     "text": [
      "R Help on ‘derivnum’derivnum                package:seacarb                R Documentation\n",
      "\n",
      "_\bN_\bu_\bm_\be_\br_\bi_\bc_\ba_\bl _\bd_\be_\br_\bi_\bv_\ba_\bt_\bi_\bv_\be_\bs _\bo_\bf _\bs_\be_\ba_\bw_\ba_\bt_\be_\br _\bc_\ba_\br_\bb_\bo_\bn_\ba_\bt_\be _\bs_\by_\bs_\bt_\be_\bm _\bv_\ba_\br_\bi_\ba_\bb_\bl_\be_\bs\n",
      "\n",
      "_\bD_\be_\bs_\bc_\br_\bi_\bp_\bt_\bi_\bo_\bn:\n",
      "\n",
      "     Returns numerical derivatives of the seawater carbonate system\n",
      "     output variables with respect to input variables.\n",
      "\n",
      "_\bU_\bs_\ba_\bg_\be:\n",
      "\n",
      "     derivnum(varid, flag, var1, var2, S=35, T=25, Patm=1, P=0, Pt=0, Sit=0,\n",
      "            k1k2=\"x\", kf=\"x\", ks=\"d\", pHscale=\"T\", b=\"u74\", gas=\"potential\", warn=\"y\", \n",
      "            eos = \"eos80\", long = 1e+20, lat = 1e+20)\n",
      "     \n",
      "_\bA_\br_\bg_\bu_\bm_\be_\bn_\bt_\bs:\n",
      "\n",
      "   varid: Variable length, case insensitive, character identificator of\n",
      "          variable with respect to which derivatives are requested.\n",
      "          Possible values are:\n",
      "\n",
      "          '1' or 'var1' : Variable 1 of the input pair (This is TAlk if\n",
      "          flag is 15)\n",
      "\n",
      "          '2' or 'var2' : Variable 2 of the input pair (This is DIC if\n",
      "          flag is 15)\n",
      "\n",
      "          'sil', 'silt', 'tsil' or 'silicate' : Total silicate\n",
      "          concentration\n",
      "\n",
      "          'phos', 'phost', 'tphos' or 'phosphate' : Total phosphate\n",
      "          concentration\n",
      "\n",
      "          't', 'temp' or 'temperature' : temperature\n",
      "\n",
      "          's', 'sal' or 'salinity' : salinity\n",
      "\n",
      "          'K0','K1','K2','Kb','Kw','Kspa' or 'Kspc' : one of the\n",
      "          dissociation constants\n",
      "\n",
      "          'bor' : total boron\n",
      "\n",
      "    flag: select the input pair of carbonate-system variables available\n",
      "          by choosing the following flag:\n",
      "\n",
      "          flag = 1 pH and CO2 given\n",
      "\n",
      "          flag = 2 CO2 and HCO3 given\n",
      "\n",
      "          flag = 3 CO2 and CO3 given\n",
      "\n",
      "          flag = 4 CO2 and ALK given\n",
      "\n",
      "          flag = 5 CO2 and DIC given\n",
      "\n",
      "          flag = 6 pH and HCO3 given\n",
      "\n",
      "          flag = 7 pH and CO3 given\n",
      "\n",
      "          flag = 8 pH and ALK given\n",
      "\n",
      "          flag = 9 pH and DIC given\n",
      "\n",
      "          flag = 10 HCO3 and CO3 given\n",
      "\n",
      "          flag = 11 HCO3 and ALK given\n",
      "\n",
      "          flag = 12 HCO3 and DIC given\n",
      "\n",
      "          flag = 13 CO3 and ALK given\n",
      "\n",
      "          flag = 14 CO3 and DIC given\n",
      "\n",
      "          flag = 15 ALK and DIC given\n",
      "\n",
      "          flag = 21 pCO2 and pH given\n",
      "\n",
      "          flag = 22 pCO2 and HCO3 given\n",
      "\n",
      "          flag = 23 pCO2 and CO3 given\n",
      "\n",
      "          flag = 24 pCO2 and ALK given\n",
      "\n",
      "          flag = 25 pCO2 and DIC given\n",
      "\n",
      "    var1: Value of the first variable in mol/kg, except for pH and for\n",
      "          pCO2 in muatm\n",
      "\n",
      "    var2: Value of the second variable in mol/kg, except for pH\n",
      "\n",
      "       S: Salinity\n",
      "\n",
      "       T: Temperature in degrees Celsius\n",
      "\n",
      "    Patm: Surface atmospheric pressure in atm, default is 1 atm\n",
      "\n",
      "       P: Hydrostatic pressure in bar (surface = 0)\n",
      "\n",
      "      Pt: Concentration of total phosphate in mol/kg; set to 0 if NA\n",
      "\n",
      "     Sit: Concentration of total silicate in mol/kg; set to 0 if NA\n",
      "\n",
      "    k1k2: \"l\" for using K1 and K2 from Lueker et al. (2000), \"m06\" from\n",
      "          Millero et al. (2006), \"m10\" from Millero (2010), \"w14\" from\n",
      "          Waters et al. (2014), and \"r\" from Roy et al. (1993). \"x\" is\n",
      "          the default flag; the default value is then \"l\", except if T\n",
      "          is outside the range 2 to 35oC and/or S is outside the range\n",
      "          19 to 43. In these cases, the default value is \"w14\".\n",
      "\n",
      "      kf: \"pf\" for using Kf from Perez and Fraga (1987) and \"dg\" for\n",
      "          using Kf from Dickson and Riley (1979 in Dickson and Goyet,\n",
      "          1994). \"x\" is the default flag; the default value is then\n",
      "          \"pf\", except if T is outside the range 9 to 33oC and/or S is\n",
      "          outside the range 10 to 40. In these cases, the default is\n",
      "          \"dg\".\n",
      "\n",
      "      ks: \"d\" for using Ks from Dickson (1990) and \"k\" for using Ks\n",
      "          from Khoo et al. (1977), default is \"d\"\n",
      "\n",
      " pHscale: \"T\" for the total scale, \"F\" for the free scale and \"SWS\" for\n",
      "          using the seawater scale, default is \"T\" (total scale)\n",
      "\n",
      "       b: Concentration of total boron. \"l10\" for the Lee et al. (2010)\n",
      "          formulation or \"u74\" for the Uppstrom (1974) formulation,\n",
      "          default is \"u74\"\n",
      "\n",
      "     gas: used to indicate the convention for INPUT pCO2, i.e., when it\n",
      "          is an input variable (flags 21 to 25): \"insitu\" indicates it\n",
      "          is referenced to in situ pressure and in situ temperature;\n",
      "          \"potential\" indicates it is referenced to 1 atm pressure and\n",
      "          potential temperature; and \"standard\" indicates it is\n",
      "          referenced to 1 atm pressure and in situ temperature. All\n",
      "          three options should give identical results at surface\n",
      "          pressure. This option is not used when pCO2 is not an input\n",
      "          variable (flags 1 to 15). The default is \"potential\".\n",
      "\n",
      "    warn: \"y\" to show warnings when T or S go beyond the valid range\n",
      "          for constants; \"n\" to supress warnings. The default is \"y\".\n",
      "\n",
      "     eos: \"teos10\" to specify T and S according to Thermodynamic\n",
      "          Equation Of Seawater - 2010 (TEOS-10); \"eos80\" to specify T\n",
      "          and S according to EOS-80.\n",
      "\n",
      "    long: longitude of data point, used when eos parameter is \"teos10\"\n",
      "          as a conversion parameter from absolute to practical\n",
      "          salinity.\n",
      "\n",
      "     lat: latitude of data point, used when eos parameter is \"teos10\".\n",
      "\n",
      "_\bD_\be_\bt_\ba_\bi_\bl_\bs:\n",
      "\n",
      "     This subroutine has same input parameters as subroutine carb().\n",
      "     For details on these parameters, refer to documentation of 'carb'.\n",
      "\n",
      "     This subroutine computes partial derivatives of each output\n",
      "     variable with respect to each of the input variable (including\n",
      "     each of the two chosen carbonate system variables, each of the\n",
      "     nutrients (total silicon and total phosphorus), temperature, and\n",
      "     salinity.\n",
      "\n",
      "     It computes these derivatives (dy/dx) using the method of central\n",
      "     differences, i.e.,\n",
      "\n",
      "        • for dx, it adds a positive and negative perturbation, same\n",
      "          and equal in magnitude, to each input variable, one at a\n",
      "          time, and\n",
      "\n",
      "        • for dy, it then computes the corresponding induced change in\n",
      "          output variables\n",
      "\n",
      "     All arguments but the first (varid), can be given as scalers or\n",
      "     vectors. If the lengths of the vectors differs, only the longest\n",
      "     vector is retained and the other arguments are set equal to the\n",
      "     first value of the other vectors are used. Hence users should use\n",
      "     either vectors with the same dimension or one vector for one\n",
      "     argument and scalars for others; otherwise, results may not be as\n",
      "     intended.\n",
      "\n",
      "     long and lat are used as conversion parameters from absolute to\n",
      "     practical salinity: when seawater is not of standard composition,\n",
      "     practical salinity alone is not sufficient to compute absolute\n",
      "     salinity and vice-versa. One needs to know the density. When long\n",
      "     and lat are given, density is inferred from WOA silicate\n",
      "     concentration at given location. When they are not, an arbitrary\n",
      "     geographic point is chosen: mid equatorial Atlantic. Note that\n",
      "     this implies an error on computed salinity up to 0.02 g/kg.\n",
      "\n",
      "_\bV_\ba_\bl_\bu_\be:\n",
      "\n",
      "     The function returns a data frame containing the following\n",
      "     columns:\n",
      "\n",
      "       H: derivative of [H+] concentration (mol/kg/...)\n",
      "\n",
      "      pH: derivative of pH\n",
      "\n",
      "     CO2: derivative of CO2 concentration (mol/kg/...)\n",
      "\n",
      "    pCO2: \"standard\" pCO2, CO2 partial pressure computed at in situ\n",
      "          temperature and atmospheric pressure (muatm/...)\n",
      "\n",
      "    fCO2: \"standard\" fCO2, CO2 fugacity computed at in situ temperature\n",
      "          and atmospheric pressure (muatm/...)\n",
      "\n",
      "    HCO3: derivative of HCO3 concentration (mol/kg/...)\n",
      "\n",
      "     CO3: derivative of CO3 concentration (mol/kg/...)\n",
      "\n",
      "     DIC: derivative of DIC concentration (mol/kg/...)\n",
      "\n",
      "     ALK: derivative of ALK, total alkalinity (mol/kg/...)\n",
      "\n",
      "OmegaAragonite: derivative of Omega aragonite, aragonite saturation\n",
      "          state\n",
      "\n",
      "OmegaCalcite: derivative of Omega calcite, calcite saturation state\n",
      "     If all input data have the same 'flag' value, returned data frame\n",
      "     does not show derivatives of input pair of carbonate system\n",
      "     variables. For example, if all input flags are 15, the input pair\n",
      "     is DIC and ALK; hence, derivatives of DIC and ALK are not\n",
      "     returned.\n",
      "\n",
      "     Units of derivative dy/dx is unit(y)/unit(x) where unit(x) are as\n",
      "     follows:\n",
      "\n",
      "degree C: when x is Temperature\n",
      "\n",
      "     psu: when x is Salinity\n",
      "\n",
      "   muatm: when x is pCO2\n",
      "\n",
      "  mol/kg: for all other cases\n",
      "\n",
      "_\bA_\bu_\bt_\bh_\bo_\br(_\bs):\n",
      "\n",
      "     Jean-Marie Epitalon, James Orr, and Jean-Pierre Gattuso<email:\n",
      "     gattuso@obs-vlfr.fr>\n",
      "\n",
      "_\bR_\be_\bf_\be_\br_\be_\bn_\bc_\be_\bs:\n",
      "\n",
      "     Dickson A. G. and Riley J. P., 1979 The estimation of acid\n",
      "     dissociation constants in seawater media from potentiometric\n",
      "     titrations with strong base. I. The ionic product of water.\n",
      "     _Marine Chemistry_ *7*, 89-99.\n",
      "\n",
      "     Dickson A. G., 1990 Standard potential of the reaction: AgCI(s) +\n",
      "     1/2H2(g) = Ag(s) + HCI(aq), and the standard acidity constant of\n",
      "     the ion HSO4 in synthetic sea water from 273.15 to 318.15 K.\n",
      "     _Journal of Chemical Thermodynamics_ *22*, 113-127.\n",
      "\n",
      "     Dickson A. G., Sabine C. L. and Christian J. R., 2007 Guide to\n",
      "     best practices for ocean CO2 measurements. _PICES Special\n",
      "     Publication_ *3*, 1-191.\n",
      "\n",
      "     Khoo H. K., Ramette R. W., Culberson C. H. and Bates R. G., 1977\n",
      "     Determination of Hydrogen Ion Concentration in Seawater from 5 to\n",
      "     40oC: Standard Potentials at Salinities from 20 to 45. _Analytical\n",
      "     Chemistry_ *22*, vol49 29-34.\n",
      "\n",
      "     Lee K., Tae-Wook K., Byrne R.H., Millero F.J., Feely R.A. and Liu\n",
      "     Y-M, 2010 The universal ratio of the boron to chlorinity for the\n",
      "     North Pacific and North Atlantoc oceans. _Geochimica et\n",
      "     Cosmochimica Acta_ *74* 1801-1811.\n",
      "\n",
      "     Lueker T. J., Dickson A. G. and Keeling C. D., 2000 Ocean pCO2\n",
      "     calculated from dissolved inorganic carbon, alkalinity, and\n",
      "     equations for K1 and K2: validation based on laboratory\n",
      "     measurements of CO2 in gas and seawater at equilibrium. _Marine\n",
      "     Chemistry_ *70* 105-119.\n",
      "\n",
      "     Millero F. J., 1995. Thermodynamics of the carbon dioxide system\n",
      "     in the oceans. _Geochimica Cosmochimica Acta_ *59*: 661-677.\n",
      "\n",
      "     Millero F. J., 2010. Carbonate constant for estuarine waters.\n",
      "     _Marine and Freshwater Research_ *61*: 139-142.\n",
      "\n",
      "     Millero F. J., Graham T. B., Huang F., Bustos-Serrano H. and\n",
      "     Pierrot D., 2006. Dissociation constants of carbonic acid in\n",
      "     seawater as a function of salinity and temperature.  _Marine\n",
      "     Chemistry_ *100*, 80-84.\n",
      "\n",
      "     Orr J. C., Epitalon J.-M. and Gattuso J.-P., 2015. Comparison of\n",
      "     seven packages that compute ocean carbonate chemistry.\n",
      "     _Biogeosciences_ *12*, 1483-1510.\n",
      "\n",
      "     Perez F. F. and Fraga F., 1987 Association constant of fluoride\n",
      "     and hydrogen ions in seawater. _Marine Chemistry_ *21*, 161-168.\n",
      "\n",
      "     Roy R. N., Roy L. N., Vogel K. M., Porter-Moore C., Pearson T.,\n",
      "     Good C. E., Millero F. J. and Campbell D. M., 1993. The\n",
      "     dissociation constants of carbonic acid in seawater at salinities\n",
      "     5 to 45 and temperatures 0 to 45oC. _Marine Chemistry_ *44*,\n",
      "     249-267.\n",
      "\n",
      "     Uppstrom L.R., 1974 The boron/chlorinity ratio of the deep-sea\n",
      "     water from the Pacific Ocean. _Deep-Sea Research I_ *21* 161-162.\n",
      "\n",
      "     Waters, J., Millero, F. J., and Woosley, R. J., 2014. Corrigendum\n",
      "     to ``The free proton concentration scale for seawater pH'',\n",
      "     [MARCHE: 149 (2013) 8-22], _Marine Chemistry_, *165*, 66-67.\n",
      "\n",
      "     Weiss, R. F., 1974. Carbon dioxide in water and seawater: the\n",
      "     solubility of a non-ideal gas, _Marine Chemistry_, *2*, 203-215.\n",
      "\n",
      "     Weiss, R. F. and Price, B. A., 1980. Nitrous oxide solubility in\n",
      "     water and seawater, _Marine Chemistry_, *8*, 347-359.\n",
      "\n",
      "     Zeebe R. E. and Wolf-Gladrow D. A., 2001 _CO2 in seawater:\n",
      "     equilibrium, kinetics, isotopes_. Amsterdam: Elsevier, 346 pp.\n",
      "\n",
      "_\bE_\bx_\ba_\bm_\bp_\bl_\be_\bs:\n",
      "\n",
      "     ## 1) For the input pair ALK and DIC (var1 and var2 when flag=15)\n",
      "     ##    compute derivatives of all output varialbes \n",
      "     ##    with respect to DIC (i.e., var2)\n",
      "     derivnum(varid='var2', flag=15, var1=2300e-6, var2=2000e-6, \n",
      "              S=35, T=25, P=0, Patm=1.0, Pt=0, Sit=0,\n",
      "              pHscale=\"T\", kf=\"pf\", k1k2=\"l\", ks=\"d\", b=\"u74\")\n",
      "     \n",
      "     ## 2) For the input pair pH and ALK (var1 and var2 when flag=8)\n",
      "     ##    compute derivatives of all output variables \n",
      "     ##    with respect to [H+] concentration\n",
      "     derivnum(varid='var1', flag=8, var1=8.2, var2=0.00234, \n",
      "              S=35, T=25, P=0, Patm=1.0, Pt=0, Sit=0,\n",
      "              pHscale=\"T\", kf=\"pf\", k1k2=\"l\", ks=\"d\", b=\"u74\")\n",
      "     \n",
      "     ## 3) Using vectors as arguments and compute derivatives of all output \n",
      "     ##    variables with respect to temperature\n",
      "     flag <- c(8, 2, 8)\n",
      "     var1 <- c(8.2, 7.477544e-06, 8.2)\n",
      "     var2 <- c(0.002343955, 0.001649802, 2400e-6)\n",
      "     S <- c(35, 35, 30)\n",
      "     T <- c(25, 25, 30)\n",
      "     P <- c(0, 0, 0)\n",
      "     Pt <- c(0, 0, 0)\n",
      "     Sit <- c(0, 0, 0)\n",
      "     kf <- c(\"pf\", \"pf\", \"pf\")\n",
      "     k1k2 <- c(\"l\", \"l\", \"l\")\n",
      "     pHscale <- c(\"T\", \"T\", \"T\")\n",
      "     b <- c(\"u74\", \"u74\", \"u74\")\n",
      "     derivnum(varid='T', flag=flag, var1=var1, var2=var2, S=S, T=T, P=P,\n",
      "              Pt=Pt, Sit=Sit, kf=kf, k1k2=k1k2, pHscale=pHscale, b=b)\n",
      "     \n",
      "     # For more examples of use of derivnum.R,\n",
      "     # consult the code of seacarb's errors routine.\n",
      "     \n"
     ]
    }
   ],
   "source": [
    "%%R\n",
    "?derivnum"
   ]
  },
  {
   "cell_type": "markdown",
   "metadata": {},
   "source": [
    "### 2.1 `carb` routine computes derived variables but does not compute sensitivities"
   ]
  },
  {
   "cell_type": "code",
   "execution_count": 6,
   "metadata": {
    "collapsed": false
   },
   "outputs": [
    {
     "data": {
      "text/plain": [
       "  flag  S  T Patm P       pH          CO2     fCO2     pCO2  fCO2pot  pCO2pot\n",
       "1   15 35 18    1 0 8.152525 1.018509e-05 297.0486 298.0854 297.0854 298.1224\n",
       "  fCO2insitu pCO2insitu        HCO3          CO3   DIC    ALK OmegaAragonite\n",
       "1   297.0486   298.0854 0.001779217 0.0002105975 0.002 0.0023       3.252296\n",
       "  OmegaCalcite\n",
       "1     5.029397\n"
      ]
     },
     "metadata": {},
     "output_type": "display_data"
    }
   ],
   "source": [
    "%%R\n",
    "# Standard seacarb routine to compute derived variables (carb, not errors)\n",
    "vars <- carb(flag=15, var1=2300e-6, var2=2000e-6, S=35, T=18, P=0, Patm=1.0, Pt=0, Sit=0, \n",
    "            pHscale=\"T\", kf=\"pf\", k1k2=\"l\", ks=\"d\", b=\"u74\")\n",
    "\n",
    "print(vars)"
   ]
  },
  {
   "cell_type": "markdown",
   "metadata": {},
   "source": [
    "### 2.2 Use the `derivnum` routine to compute uncertainties\n",
    "\n",
    "The `derivnum` routine is used with the same arguments as the `carb` routine except that a new argument is inserted at the very beginning to specify the the input variable with respect to which the partial derivatives of all output variables will be taken."
   ]
  },
  {
   "cell_type": "markdown",
   "metadata": {},
   "source": [
    "#### 2.2.1 For the $A_\\text{T}$-$C_\\text{T}$ pair  (var1 and var2 when flag=15) compute derivatives of all output variables with respect to DIC (i.e., var2)\n"
   ]
  },
  {
   "cell_type": "code",
   "execution_count": 7,
   "metadata": {
    "collapsed": false
   },
   "outputs": [
    {
     "data": {
      "text/plain": [
       "             H       pH        CO2    fCO2    pCO2     HCO3        CO3\n",
       "1 3.511675e-05 -1695.41 0.05389665 1898312 1904392 1.588404 -0.6423006\n",
       "  OmegaAragonite OmegaCalcite\n",
       "1      -10193.63    -15465.18\n"
      ]
     },
     "metadata": {},
     "output_type": "display_data"
    }
   ],
   "source": [
    "%%R\n",
    "derivnum(varid='var2', flag=15, var1=2300e-6, var2=2000e-6, S=35, T=25, P=0, Patm=1.0, Pt=0, Sit=0,\n",
    "         pHscale=\"T\", kf=\"pf\", k1k2=\"l\", ks=\"d\", b=\"u74\")\n",
    "# shown are dH/dDIC, dpH/dDIC, dCO2*/dDIC, dfCO2/dDIC, dpCO2/dDIC, dHCO3/dDIC, dCO3/dDIC, dOmegaAragonite/dDIC,..."
   ]
  },
  {
   "cell_type": "markdown",
   "metadata": {},
   "source": [
    "#### 2.2.2 For the pH-$A_\\text{T}$ pair, compute derivatives of all output vars w.r.t. [H+] (i.e., since var1 is pH)"
   ]
  },
  {
   "cell_type": "code",
   "execution_count": 8,
   "metadata": {
    "collapsed": false
   },
   "outputs": [
    {
     "data": {
      "text/plain": [
       "       CO2        fCO2        pCO2     HCO3       CO3     DIC OmegaAragonite\n",
       "1 1791.739 52256164574 52438644528 47414.67 -19142.11 30064.3     -295615129\n",
       "  OmegaCalcite\n",
       "1   -457143454\n"
      ]
     },
     "metadata": {},
     "output_type": "display_data"
    }
   ],
   "source": [
    "%%R\n",
    "d <- derivnum('1', flag=8, var1=8.1, var2=2300e-6, S=35, T=18, P=0, Patm=1.0, Pt=0, Sit=0, \n",
    "            pHscale=\"T\", kf=\"dg\", k1k2=\"l\", ks=\"d\", b=\"u74\")\n",
    "\n",
    "d\n",
    "# shown are dCO2/dH, dfCO2/dH, dpCO2/dH, dHCO3/dH, dCO3/dH, dDIC/dH, dOmegaAragonite/dH, dOmegaCalcite/dH"
   ]
  },
  {
   "cell_type": "markdown",
   "metadata": {},
   "source": [
    "#### 2.2.3 For the pH-$A_\\text{T}$ pair, compute derivatives of all output vars w.r.t. the equil constant K1"
   ]
  },
  {
   "cell_type": "code",
   "execution_count": 9,
   "metadata": {
    "collapsed": false
   },
   "outputs": [
    {
     "data": {
      "text/plain": [
       "        CO2       fCO2       pCO2          HCO3           CO3       DIC\n",
       "1 -9.596446 -279880895 -280858247 -2.710505e-10 -2.258755e-11 -9.596446\n",
       "  OmegaAragonite  OmegaCalcite\n",
       "1  -1.850372e-07 -3.700743e-07\n"
      ]
     },
     "metadata": {},
     "output_type": "display_data"
    }
   ],
   "source": [
    "%%R\n",
    "d <- derivnum('K1', flag=8, var1=8.1, var2=2300e-6, S=35, T=18, P=0, Patm=1.0, Pt=0, Sit=0, \n",
    "            pHscale=\"T\", kf=\"dg\", k1k2=\"l\", ks=\"d\", b=\"u74\")\n",
    "\n",
    "d\n",
    "# shown are dCO2/dH, dfCO2/dH, dpCO2/dH, dHCO3/dH, dCO3/dH, dDIC/dH, dOmegaAragonite/dH, ..."
   ]
  },
  {
   "cell_type": "markdown",
   "metadata": {},
   "source": [
    "#### 2.2.4 For the pH-$A_\\text{T}$ pair, compute derivatives of all output vars w.r.t. the equil constant Kspa"
   ]
  },
  {
   "cell_type": "code",
   "execution_count": 10,
   "metadata": {
    "collapsed": false,
    "scrolled": true
   },
   "outputs": [
    {
     "data": {
      "text/plain": [
       "  CO2 fCO2 pCO2 HCO3 CO3 DIC OmegaAragonite OmegaCalcite\n",
       "1   0    0    0    0   0   0       -4440977            0\n"
      ]
     },
     "metadata": {},
     "output_type": "display_data"
    }
   ],
   "source": [
    "%%R\n",
    "d <- derivnum('Kspa', flag=8, var1=8.1, var2=2300e-6, S=35, T=18, P=0, Patm=1.0, Pt=0, Sit=0, \n",
    "            pHscale=\"T\", kf=\"dg\", k1k2=\"l\", ks=\"d\", b=\"u74\")\n",
    "\n",
    "d\n",
    "# shown are dCO2/dKspa, dfCO2/dKspa, dpCO2/dKspa, dHCO3/dKspa, dCO3/dKspa, dDIC/dKspa, dOmegaAragonite/dKspa, ..."
   ]
  },
  {
   "cell_type": "markdown",
   "metadata": {},
   "source": [
    "#### 2.2.5 For the pH-$A_\\text{T}$ pair, compute derivatives of all output vars w.r.t. Temperature"
   ]
  },
  {
   "cell_type": "code",
   "execution_count": 11,
   "metadata": {
    "collapsed": false,
    "scrolled": true
   },
   "outputs": [
    {
     "data": {
      "text/plain": [
       "            CO2      fCO2       pCO2         HCO3          CO3           DIC\n",
       "1 -3.512524e-07 -0.365013 -0.3813695 -1.38782e-05 5.800958e-06 -8.428496e-06\n",
       "  OmegaAragonite OmegaCalcite\n",
       "1     0.09897379    0.1419354\n"
      ]
     },
     "metadata": {},
     "output_type": "display_data"
    }
   ],
   "source": [
    "%%R\n",
    "d <- derivnum('T', flag=8, var1=8.1, var2=2300e-6, S=35, T=18, P=0, Patm=1.0, Pt=0, Sit=0, \n",
    "            pHscale=\"T\", kf=\"dg\", k1k2=\"l\", ks=\"d\", b=\"u74\")\n",
    "\n",
    "d\n",
    "# shown are dCO2/dT, dfCO2/dT, dpCO2/dT, dHCO3/dT, dCO3/dT, dDIC/dT, dOmegaAragonite/dT"
   ]
  },
  {
   "cell_type": "markdown",
   "metadata": {},
   "source": [
    "#### 2.2.6 For other examples of using seacarb's `derivnum` routine\n",
    "\n",
    "Just cut & paste what you like from the output of the cell below into a new jupyter notebook cell & try them out, interactively"
   ]
  },
  {
   "cell_type": "code",
   "execution_count": 12,
   "metadata": {
    "collapsed": false
   },
   "outputs": [
    {
     "data": {
      "text/plain": [
       "\n",
       "dervnm> ## 1) For the input pair ALK and DIC (var1 and var2 when flag=15)\n",
       "dervnm> ##    compute derivatives of all output varialbes \n",
       "dervnm> ##    with respect to DIC (i.e., var2)\n",
       "dervnm> derivnum(varid='var2', flag=15, var1=2300e-6, var2=2000e-6, \n",
       "dervnm+          S=35, T=25, P=0, Patm=1.0, Pt=0, Sit=0,\n",
       "dervnm+          pHscale=\"T\", kf=\"pf\", k1k2=\"l\", ks=\"d\", b=\"u74\")\n",
       "             H       pH        CO2    fCO2    pCO2     HCO3        CO3\n",
       "1 3.511675e-05 -1695.41 0.05389665 1898312 1904392 1.588404 -0.6423006\n",
       "  OmegaAragonite OmegaCalcite\n",
       "1      -10193.63    -15465.18\n",
       "\n",
       "dervnm> ## 2) For the input pair pH and ALK (var1 and var2 when flag=8)\n",
       "dervnm> ##    compute derivatives of all output variables \n",
       "dervnm> ##    with respect to [H+] concentration\n",
       "dervnm> derivnum(varid='var1', flag=8, var1=8.2, var2=0.00234, \n",
       "dervnm+          S=35, T=25, P=0, Patm=1.0, Pt=0, Sit=0,\n",
       "dervnm+          pHscale=\"T\", kf=\"pf\", k1k2=\"l\", ks=\"d\", b=\"u74\")\n",
       "       CO2       fCO2        pCO2     HCO3       CO3      DIC OmegaAragonite\n",
       "1 1503.549 5.2957e+10 53126552323 77779.94 -31412.93 47870.57     -498539002\n",
       "  OmegaCalcite\n",
       "1   -756353997\n",
       "\n",
       "dervnm> ## 3) Using vectors as arguments and compute derivatives of all output \n",
       "dervnm> ##    variables with respect to temperature\n",
       "dervnm> flag <- c(8, 2, 8)\n",
       "\n",
       "dervnm> var1 <- c(8.2, 7.477544e-06, 8.2)\n",
       "\n",
       "dervnm> var2 <- c(0.002343955, 0.001649802, 2400e-6)\n",
       "\n",
       "dervnm> S <- c(35, 35, 30)\n",
       "\n",
       "dervnm> T <- c(25, 25, 30)\n",
       "\n",
       "dervnm> P <- c(0, 0, 0)\n",
       "\n",
       "dervnm> Pt <- c(0, 0, 0)\n",
       "\n",
       "dervnm> Sit <- c(0, 0, 0)\n",
       "\n",
       "dervnm> kf <- c(\"pf\", \"pf\", \"pf\")\n",
       "\n",
       "dervnm> k1k2 <- c(\"l\", \"l\", \"l\")\n",
       "\n",
       "dervnm> pHscale <- c(\"T\", \"T\", \"T\")\n",
       "\n",
       "dervnm> b <- c(\"u74\", \"u74\", \"u74\")\n",
       "\n",
       "dervnm> derivnum(varid='T', flag=flag, var1=var1, var2=var2, S=S, T=T, P=P,\n",
       "dervnm+          Pt=Pt, Sit=Sit, kf=kf, k1k2=k1k2, pHscale=pHscale, b=b)\n",
       "             H           pH           CO2      fCO2      pCO2          HCO3\n",
       "1 0.000000e+00  0.000000000 -2.208333e-07 -1.267338 -1.281466 -1.777548e-05\n",
       "2 1.249353e-10 -0.008419675  0.000000e+00  6.649005  6.660010  0.000000e+00\n",
       "3 0.000000e+00  0.000000000 -2.017130e-07 -1.449937 -1.464215 -1.824656e-05\n",
       "           CO3           DIC          ALK OmegaAragonite OmegaCalcite\n",
       "1 7.332741e-06 -1.066357e-05 0.000000e+00     0.13715782    0.1875036\n",
       "2 4.793633e-06  4.793633e-06 1.084857e-05     0.09642431    0.1261375\n",
       "3 7.603906e-06 -1.084437e-05 0.000000e+00     0.16081618    0.2177805\n",
       "\n",
       "dervnm> # For more examples of use of derivnum.R,\n",
       "dervnm> # consult the code of seacarb's errors routine.\n",
       "dervnm> \n",
       "dervnm> \n",
       "dervnm> \n"
      ]
     },
     "metadata": {},
     "output_type": "display_data"
    }
   ],
   "source": [
    "%%R\n",
    "example(derivnum)"
   ]
  }
 ],
 "metadata": {
  "anaconda-cloud": {},
  "kernelspec": {
   "display_name": "Python 2",
   "language": "python",
   "name": "python2"
  },
  "language_info": {
   "codemirror_mode": {
    "name": "ipython",
    "version": 2
   },
   "file_extension": ".py",
   "mimetype": "text/x-python",
   "name": "python",
   "nbconvert_exporter": "python",
   "pygments_lexer": "ipython2",
   "version": "2.7.13"
  }
 },
 "nbformat": 4,
 "nbformat_minor": 0
}
