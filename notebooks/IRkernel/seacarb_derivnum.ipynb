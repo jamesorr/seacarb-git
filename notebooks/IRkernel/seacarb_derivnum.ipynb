{
 "cells": [
  {
   "cell_type": "markdown",
   "metadata": {},
   "source": [
    "# Use `seacarb`'s `derivnum` routine to compute sensitivities"
   ]
  },
  {
   "cell_type": "markdown",
   "metadata": {},
   "source": [
    "<hr>\n",
    "James Orr - 4 July 2018<br>\n",
    "\n",
    "<img align=\"left\" width=\"60%\" src=\"http://www.lsce.ipsl.fr/Css/img/banniere_LSCE_75.png\" \\><br><br>\n",
    "\n",
    "LSCE/IPSL, CEA-CNRS-UVSQ, Gif-sur-Yvette, France\n",
    "<hr>"
   ]
  },
  {
   "cell_type": "markdown",
   "metadata": {},
   "source": [
    "#### Table of Contents:\n",
    "    1. Setup, install seacarb (one-time only), load seacarb (once per session)\n",
    "    2. Compute sensitivities with derivnum routine\n"
   ]
  },
  {
   "cell_type": "markdown",
   "metadata": {},
   "source": [
    "## 1. Setup "
   ]
  },
  {
   "cell_type": "markdown",
   "metadata": {},
   "source": [
    "### 1.1 Run interactively\n",
    "\n",
    "If you are visualizing this ***notebook*** after clicking on the link to this file on github, you are seeing the HTML version of a jupyter notebook. A second approach, which is more useful, is to actually run & modify cells in this notebook by using the \"binder\" facility, which takes the notebook on git hub and runs it via the cloud through https://mybinder.org. \n",
    "\n",
    "For maximum flexibility though, you may ultimately wish run cells interactively and modify and store the changes in notebooks on your local machine using `jupyter notebook` also installed locally. To install that software locally, just download and the anaconda open software installer for your computing platform (Windows, OS X, or Linux) from https://www.continuum.io/downloads and then follow the easy install instructions at\n",
    "\n",
    "https://docs.continuum.io/anaconda/install#\n",
    "\n",
    "Then just download this `jupyter notebook` file as well as the seacarb package (see section 1.2 below).  Afterwards, you'll only need to install `Rmagic`, available in the `rpy2` package with the 2 lines of commands shown in the following section."
   ]
  },
  {
   "cell_type": "markdown",
   "metadata": {},
   "source": [
    "#### Install `R`\n",
    "\n",
    "If running this on your local machine (and not online with binder) before launching the notebook with the usual command `jupyter notebook`, it is necessary to install R. To install that, at the Unix prompt, just enter the following command (assumng you have installed anaconda):\n",
    "\n",
    "`conda install -c r r-essentials`\n",
    "\n",
    "That only needs to be done once. Normally, r-essentials includes the IRkernel package to allow the Notebook code cells to be R code (via the R kernel). Now go to the directory with this notebook, and at the Unix prompt, give the `jupyter notebook` command"
   ]
  },
  {
   "cell_type": "markdown",
   "metadata": {},
   "source": [
    "### 1.2  Install seacarb and call library (need to install `seacarb` only once unlesss updating versions)"
   ]
  },
  {
   "cell_type": "markdown",
   "metadata": {},
   "source": [
    "#### Uncomment last line in cell below and execute cell if you want to install or reinstall `seacarb` (no need to repeat this operation)"
   ]
  },
  {
   "cell_type": "code",
   "execution_count": 2,
   "metadata": {
    "collapsed": false
   },
   "outputs": [
    {
     "name": "stderr",
     "output_type": "stream",
     "text": [
      "Updating HTML index of packages in '.Library'\n",
      "Making 'packages.html' ... done\n"
     ]
    }
   ],
   "source": [
    "#install.packages('seacarb')\n",
    "install.packages('seacarb', repos=\"http://ftp.igh.cnrs.fr/pub/CRAN/\")"
   ]
  },
  {
   "cell_type": "markdown",
   "metadata": {},
   "source": [
    "#### Use seacarb library (only need to invoke this once per session)"
   ]
  },
  {
   "cell_type": "code",
   "execution_count": 3,
   "metadata": {
    "collapsed": false,
    "scrolled": true
   },
   "outputs": [
    {
     "name": "stderr",
     "output_type": "stream",
     "text": [
      "Loading required package: oce\n",
      "Loading required package: gsw\n"
     ]
    }
   ],
   "source": [
    "library(seacarb)"
   ]
  },
  {
   "cell_type": "markdown",
   "metadata": {},
   "source": [
    "#### Version number of seacarb that you are using"
   ]
  },
  {
   "cell_type": "code",
   "execution_count": 4,
   "metadata": {
    "collapsed": false
   },
   "outputs": [
    {
     "data": {
      "text/plain": [
       "[1] ‘3.2.8’"
      ]
     },
     "metadata": {},
     "output_type": "display_data"
    }
   ],
   "source": [
    "packageVersion('seacarb')"
   ]
  },
  {
   "cell_type": "markdown",
   "metadata": {},
   "source": [
    "## 2.  Compute sensitivities (partial derivatives) with `derivnum` routine"
   ]
  },
  {
   "cell_type": "markdown",
   "metadata": {},
   "source": [
    "#### See the `derivnum' function's documentation"
   ]
  },
  {
   "cell_type": "code",
   "execution_count": 5,
   "metadata": {
    "collapsed": false
   },
   "outputs": [],
   "source": [
    "?derivnum"
   ]
  },
  {
   "cell_type": "markdown",
   "metadata": {},
   "source": [
    "### 2.1 `carb` routine computes derived variables but does not compute sensitivities"
   ]
  },
  {
   "cell_type": "code",
   "execution_count": 6,
   "metadata": {
    "collapsed": false
   },
   "outputs": [
    {
     "name": "stdout",
     "output_type": "stream",
     "text": [
      "  flag  S  T Patm P       pH          CO2     fCO2     pCO2  fCO2pot  pCO2pot\n",
      "1   15 35 18    1 0 8.152525 1.018509e-05 297.0486 298.0854 297.0854 298.1224\n",
      "  fCO2insitu pCO2insitu        HCO3          CO3   DIC    ALK OmegaAragonite\n",
      "1   297.0486   298.0854 0.001779217 0.0002105975 0.002 0.0023       3.252296\n",
      "  OmegaCalcite\n",
      "1     5.029397\n"
     ]
    }
   ],
   "source": [
    "# Standard seacarb routine to compute derived variables (carb, not errors)\n",
    "vars <- carb(flag=15, var1=2300e-6, var2=2000e-6, S=35, T=18, P=0, Patm=1.0, Pt=0, Sit=0, \n",
    "            pHscale=\"T\", kf=\"pf\", k1k2=\"l\", ks=\"d\", b=\"u74\")\n",
    "\n",
    "print(vars)"
   ]
  },
  {
   "cell_type": "code",
   "execution_count": 7,
   "metadata": {
    "collapsed": false
   },
   "outputs": [
    {
     "data": {
      "text/html": [
       "<table>\n",
       "<thead><tr><th scope=col>flag</th><th scope=col>S</th><th scope=col>T</th><th scope=col>Patm</th><th scope=col>P</th><th scope=col>pH</th><th scope=col>CO2</th><th scope=col>fCO2</th><th scope=col>pCO2</th><th scope=col>fCO2pot</th><th scope=col>pCO2pot</th><th scope=col>fCO2insitu</th><th scope=col>pCO2insitu</th><th scope=col>HCO3</th><th scope=col>CO3</th><th scope=col>DIC</th><th scope=col>ALK</th><th scope=col>OmegaAragonite</th><th scope=col>OmegaCalcite</th></tr></thead>\n",
       "<tbody>\n",
       "\t<tr><td>15          </td><td>35          </td><td>18          </td><td>1           </td><td>0           </td><td>8.152525    </td><td>1.018509e-05</td><td>297.0486    </td><td>298.0854    </td><td>297.0854    </td><td>298.1224    </td><td>297.0486    </td><td>298.0854    </td><td>0.001779217 </td><td>0.0002105975</td><td>0.002       </td><td>0.0023      </td><td>3.252296    </td><td>5.029397    </td></tr>\n",
       "</tbody>\n",
       "</table>\n"
      ],
      "text/latex": [
       "\\begin{tabular}{r|lllllllllllllllllll}\n",
       " flag & S & T & Patm & P & pH & CO2 & fCO2 & pCO2 & fCO2pot & pCO2pot & fCO2insitu & pCO2insitu & HCO3 & CO3 & DIC & ALK & OmegaAragonite & OmegaCalcite\\\\\n",
       "\\hline\n",
       "\t 15           & 35           & 18           & 1            & 0            & 8.152525     & 1.018509e-05 & 297.0486     & 298.0854     & 297.0854     & 298.1224     & 297.0486     & 298.0854     & 0.001779217  & 0.0002105975 & 0.002        & 0.0023       & 3.252296     & 5.029397    \\\\\n",
       "\\end{tabular}\n"
      ],
      "text/markdown": [
       "\n",
       "flag | S | T | Patm | P | pH | CO2 | fCO2 | pCO2 | fCO2pot | pCO2pot | fCO2insitu | pCO2insitu | HCO3 | CO3 | DIC | ALK | OmegaAragonite | OmegaCalcite | \n",
       "|---|\n",
       "| 15           | 35           | 18           | 1            | 0            | 8.152525     | 1.018509e-05 | 297.0486     | 298.0854     | 297.0854     | 298.1224     | 297.0486     | 298.0854     | 0.001779217  | 0.0002105975 | 0.002        | 0.0023       | 3.252296     | 5.029397     | \n",
       "\n",
       "\n"
      ],
      "text/plain": [
       "  flag S  T  Patm P pH       CO2          fCO2     pCO2     fCO2pot  pCO2pot \n",
       "1 15   35 18 1    0 8.152525 1.018509e-05 297.0486 298.0854 297.0854 298.1224\n",
       "  fCO2insitu pCO2insitu HCO3        CO3          DIC   ALK    OmegaAragonite\n",
       "1 297.0486   298.0854   0.001779217 0.0002105975 0.002 0.0023 3.252296      \n",
       "  OmegaCalcite\n",
       "1 5.029397    "
      ]
     },
     "metadata": {},
     "output_type": "display_data"
    }
   ],
   "source": [
    "vars"
   ]
  },
  {
   "cell_type": "markdown",
   "metadata": {},
   "source": [
    "### 2.2 Use the `derivnum` routine to compute uncertainties\n",
    "\n",
    "The `derivnum` routine is used with the same arguments as the `carb` routine except that a new argument is inserted at the very beginning to specify the the input variable with respect to which the partial derivatives of all output variables will be taken."
   ]
  },
  {
   "cell_type": "markdown",
   "metadata": {},
   "source": [
    "#### 2.2.1 For the $A_\\text{T}$-$C_\\text{T}$ pair  (var1 and var2 when flag=15) compute derivatives of all output variables with respect to DIC (i.e., var2)\n"
   ]
  },
  {
   "cell_type": "code",
   "execution_count": 8,
   "metadata": {
    "collapsed": false
   },
   "outputs": [
    {
     "data": {
      "text/html": [
       "<table>\n",
       "<thead><tr><th scope=col>H</th><th scope=col>pH</th><th scope=col>CO2</th><th scope=col>fCO2</th><th scope=col>pCO2</th><th scope=col>HCO3</th><th scope=col>CO3</th><th scope=col>OmegaAragonite</th><th scope=col>OmegaCalcite</th></tr></thead>\n",
       "<tbody>\n",
       "\t<tr><td>3.511675e-05</td><td>-1695.41    </td><td>0.05389665  </td><td>1898312     </td><td>1904392     </td><td>1.588404    </td><td>-0.6423006  </td><td>-10193.63   </td><td>-15465.18   </td></tr>\n",
       "</tbody>\n",
       "</table>\n"
      ],
      "text/latex": [
       "\\begin{tabular}{r|lllllllll}\n",
       " H & pH & CO2 & fCO2 & pCO2 & HCO3 & CO3 & OmegaAragonite & OmegaCalcite\\\\\n",
       "\\hline\n",
       "\t 3.511675e-05 & -1695.41     & 0.05389665   & 1898312      & 1904392      & 1.588404     & -0.6423006   & -10193.63    & -15465.18   \\\\\n",
       "\\end{tabular}\n"
      ],
      "text/markdown": [
       "\n",
       "H | pH | CO2 | fCO2 | pCO2 | HCO3 | CO3 | OmegaAragonite | OmegaCalcite | \n",
       "|---|\n",
       "| 3.511675e-05 | -1695.41     | 0.05389665   | 1898312      | 1904392      | 1.588404     | -0.6423006   | -10193.63    | -15465.18    | \n",
       "\n",
       "\n"
      ],
      "text/plain": [
       "  H            pH       CO2        fCO2    pCO2    HCO3     CO3       \n",
       "1 3.511675e-05 -1695.41 0.05389665 1898312 1904392 1.588404 -0.6423006\n",
       "  OmegaAragonite OmegaCalcite\n",
       "1 -10193.63      -15465.18   "
      ]
     },
     "metadata": {},
     "output_type": "display_data"
    }
   ],
   "source": [
    "derivnum(varid='var2', flag=15, var1=2300e-6, var2=2000e-6, S=35, T=25, P=0, Patm=1.0, Pt=0, Sit=0,\n",
    "         pHscale=\"T\", kf=\"pf\", k1k2=\"l\", ks=\"d\", b=\"u74\")\n",
    "# shown are dH/dDIC, dpH/dDIC, dCO2*/dDIC, dfCO2/dDIC, dpCO2/dDIC, dHCO3/dDIC, dCO3/dDIC, dOmegaAragonite/dDIC,..."
   ]
  },
  {
   "cell_type": "markdown",
   "metadata": {},
   "source": [
    "#### 2.2.2 For the pH-$A_\\text{T}$ pair, compute derivatives of all output vars w.r.t. [H+] (i.e., since var1 is pH)"
   ]
  },
  {
   "cell_type": "code",
   "execution_count": 9,
   "metadata": {
    "collapsed": false
   },
   "outputs": [
    {
     "data": {
      "text/html": [
       "<table>\n",
       "<thead><tr><th scope=col>CO2</th><th scope=col>fCO2</th><th scope=col>pCO2</th><th scope=col>HCO3</th><th scope=col>CO3</th><th scope=col>DIC</th><th scope=col>OmegaAragonite</th><th scope=col>OmegaCalcite</th></tr></thead>\n",
       "<tbody>\n",
       "\t<tr><td>1791.739   </td><td>52256164574</td><td>52438644528</td><td>47414.67   </td><td>-19142.11  </td><td>30064.3    </td><td>-295615129 </td><td>-457143454 </td></tr>\n",
       "</tbody>\n",
       "</table>\n"
      ],
      "text/latex": [
       "\\begin{tabular}{r|llllllll}\n",
       " CO2 & fCO2 & pCO2 & HCO3 & CO3 & DIC & OmegaAragonite & OmegaCalcite\\\\\n",
       "\\hline\n",
       "\t 1791.739    & 52256164574 & 52438644528 & 47414.67    & -19142.11   & 30064.3     & -295615129  & -457143454 \\\\\n",
       "\\end{tabular}\n"
      ],
      "text/markdown": [
       "\n",
       "CO2 | fCO2 | pCO2 | HCO3 | CO3 | DIC | OmegaAragonite | OmegaCalcite | \n",
       "|---|\n",
       "| 1791.739    | 52256164574 | 52438644528 | 47414.67    | -19142.11   | 30064.3     | -295615129  | -457143454  | \n",
       "\n",
       "\n"
      ],
      "text/plain": [
       "  CO2      fCO2        pCO2        HCO3     CO3       DIC     OmegaAragonite\n",
       "1 1791.739 52256164574 52438644528 47414.67 -19142.11 30064.3 -295615129    \n",
       "  OmegaCalcite\n",
       "1 -457143454  "
      ]
     },
     "metadata": {},
     "output_type": "display_data"
    }
   ],
   "source": [
    "d <- derivnum('1', flag=8, var1=8.1, var2=2300e-6, S=35, T=18, P=0, Patm=1.0, Pt=0, Sit=0, \n",
    "            pHscale=\"T\", kf=\"dg\", k1k2=\"l\", ks=\"d\", b=\"u74\")\n",
    "\n",
    "d\n",
    "# shown are dCO2/dH, dfCO2/dH, dpCO2/dH, dHCO3/dH, dCO3/dH, dDIC/dH, dOmegaAragonite/dH, dOmegaCalcite/dH"
   ]
  },
  {
   "cell_type": "markdown",
   "metadata": {},
   "source": [
    "#### 2.2.3 For the pH-$A_\\text{T}$ pair, compute derivatives of all output vars w.r.t. the equil constant K1"
   ]
  },
  {
   "cell_type": "code",
   "execution_count": 10,
   "metadata": {
    "collapsed": false
   },
   "outputs": [
    {
     "data": {
      "text/html": [
       "<table>\n",
       "<thead><tr><th scope=col>CO2</th><th scope=col>fCO2</th><th scope=col>pCO2</th><th scope=col>HCO3</th><th scope=col>CO3</th><th scope=col>DIC</th><th scope=col>OmegaAragonite</th><th scope=col>OmegaCalcite</th></tr></thead>\n",
       "<tbody>\n",
       "\t<tr><td>-9.596446    </td><td>-279880895   </td><td>-280858247   </td><td>-2.710505e-10</td><td>-2.258755e-11</td><td>-9.596446    </td><td>-1.850372e-07</td><td>-3.700743e-07</td></tr>\n",
       "</tbody>\n",
       "</table>\n"
      ],
      "text/latex": [
       "\\begin{tabular}{r|llllllll}\n",
       " CO2 & fCO2 & pCO2 & HCO3 & CO3 & DIC & OmegaAragonite & OmegaCalcite\\\\\n",
       "\\hline\n",
       "\t -9.596446     & -279880895    & -280858247    & -2.710505e-10 & -2.258755e-11 & -9.596446     & -1.850372e-07 & -3.700743e-07\\\\\n",
       "\\end{tabular}\n"
      ],
      "text/markdown": [
       "\n",
       "CO2 | fCO2 | pCO2 | HCO3 | CO3 | DIC | OmegaAragonite | OmegaCalcite | \n",
       "|---|\n",
       "| -9.596446     | -279880895    | -280858247    | -2.710505e-10 | -2.258755e-11 | -9.596446     | -1.850372e-07 | -3.700743e-07 | \n",
       "\n",
       "\n"
      ],
      "text/plain": [
       "  CO2       fCO2       pCO2       HCO3          CO3           DIC      \n",
       "1 -9.596446 -279880895 -280858247 -2.710505e-10 -2.258755e-11 -9.596446\n",
       "  OmegaAragonite OmegaCalcite \n",
       "1 -1.850372e-07  -3.700743e-07"
      ]
     },
     "metadata": {},
     "output_type": "display_data"
    }
   ],
   "source": [
    "d <- derivnum('K1', flag=8, var1=8.1, var2=2300e-6, S=35, T=18, P=0, Patm=1.0, Pt=0, Sit=0, \n",
    "            pHscale=\"T\", kf=\"dg\", k1k2=\"l\", ks=\"d\", b=\"u74\")\n",
    "\n",
    "d\n",
    "# shown are dCO2/dH, dfCO2/dH, dpCO2/dH, dHCO3/dH, dCO3/dH, dDIC/dH, dOmegaAragonite/dH, ..."
   ]
  },
  {
   "cell_type": "markdown",
   "metadata": {},
   "source": [
    "#### 2.2.4 For the pH-$A_\\text{T}$ pair, compute derivatives of all output vars w.r.t. the equil constant Kspa"
   ]
  },
  {
   "cell_type": "code",
   "execution_count": 11,
   "metadata": {
    "collapsed": false,
    "scrolled": true
   },
   "outputs": [
    {
     "data": {
      "text/html": [
       "<table>\n",
       "<thead><tr><th scope=col>CO2</th><th scope=col>fCO2</th><th scope=col>pCO2</th><th scope=col>HCO3</th><th scope=col>CO3</th><th scope=col>DIC</th><th scope=col>OmegaAragonite</th><th scope=col>OmegaCalcite</th></tr></thead>\n",
       "<tbody>\n",
       "\t<tr><td>0       </td><td>0       </td><td>0       </td><td>0       </td><td>0       </td><td>0       </td><td>-4440977</td><td>0       </td></tr>\n",
       "</tbody>\n",
       "</table>\n"
      ],
      "text/latex": [
       "\\begin{tabular}{r|llllllll}\n",
       " CO2 & fCO2 & pCO2 & HCO3 & CO3 & DIC & OmegaAragonite & OmegaCalcite\\\\\n",
       "\\hline\n",
       "\t 0        & 0        & 0        & 0        & 0        & 0        & -4440977 & 0       \\\\\n",
       "\\end{tabular}\n"
      ],
      "text/markdown": [
       "\n",
       "CO2 | fCO2 | pCO2 | HCO3 | CO3 | DIC | OmegaAragonite | OmegaCalcite | \n",
       "|---|\n",
       "| 0        | 0        | 0        | 0        | 0        | 0        | -4440977 | 0        | \n",
       "\n",
       "\n"
      ],
      "text/plain": [
       "  CO2 fCO2 pCO2 HCO3 CO3 DIC OmegaAragonite OmegaCalcite\n",
       "1 0   0    0    0    0   0   -4440977       0           "
      ]
     },
     "metadata": {},
     "output_type": "display_data"
    }
   ],
   "source": [
    "d <- derivnum('Kspa', flag=8, var1=8.1, var2=2300e-6, S=35, T=18, P=0, Patm=1.0, Pt=0, Sit=0, \n",
    "            pHscale=\"T\", kf=\"dg\", k1k2=\"l\", ks=\"d\", b=\"u74\")\n",
    "\n",
    "d\n",
    "# shown are dCO2/dKspa, dfCO2/dKspa, dpCO2/dKspa, dHCO3/dKspa, dCO3/dKspa, dDIC/dKspa, dOmegaAragonite/dKspa, ..."
   ]
  },
  {
   "cell_type": "markdown",
   "metadata": {},
   "source": [
    "#### 2.2.5 For the pH-$A_\\text{T}$ pair, compute derivatives of all output vars w.r.t. Temperature"
   ]
  },
  {
   "cell_type": "code",
   "execution_count": 12,
   "metadata": {
    "collapsed": false,
    "scrolled": true
   },
   "outputs": [
    {
     "data": {
      "text/html": [
       "<table>\n",
       "<thead><tr><th scope=col>CO2</th><th scope=col>fCO2</th><th scope=col>pCO2</th><th scope=col>HCO3</th><th scope=col>CO3</th><th scope=col>DIC</th><th scope=col>OmegaAragonite</th><th scope=col>OmegaCalcite</th></tr></thead>\n",
       "<tbody>\n",
       "\t<tr><td>-3.512524e-07</td><td>-0.365013    </td><td>-0.3813695   </td><td>-1.38782e-05 </td><td>5.800958e-06 </td><td>-8.428496e-06</td><td>0.09897379   </td><td>0.1419354    </td></tr>\n",
       "</tbody>\n",
       "</table>\n"
      ],
      "text/latex": [
       "\\begin{tabular}{r|llllllll}\n",
       " CO2 & fCO2 & pCO2 & HCO3 & CO3 & DIC & OmegaAragonite & OmegaCalcite\\\\\n",
       "\\hline\n",
       "\t -3.512524e-07 & -0.365013     & -0.3813695    & -1.38782e-05  & 5.800958e-06  & -8.428496e-06 & 0.09897379    & 0.1419354    \\\\\n",
       "\\end{tabular}\n"
      ],
      "text/markdown": [
       "\n",
       "CO2 | fCO2 | pCO2 | HCO3 | CO3 | DIC | OmegaAragonite | OmegaCalcite | \n",
       "|---|\n",
       "| -3.512524e-07 | -0.365013     | -0.3813695    | -1.38782e-05  | 5.800958e-06  | -8.428496e-06 | 0.09897379    | 0.1419354     | \n",
       "\n",
       "\n"
      ],
      "text/plain": [
       "  CO2           fCO2      pCO2       HCO3         CO3          DIC          \n",
       "1 -3.512524e-07 -0.365013 -0.3813695 -1.38782e-05 5.800958e-06 -8.428496e-06\n",
       "  OmegaAragonite OmegaCalcite\n",
       "1 0.09897379     0.1419354   "
      ]
     },
     "metadata": {},
     "output_type": "display_data"
    }
   ],
   "source": [
    "d <- derivnum('T', flag=8, var1=8.1, var2=2300e-6, S=35, T=18, P=0, Patm=1.0, Pt=0, Sit=0, \n",
    "            pHscale=\"T\", kf=\"dg\", k1k2=\"l\", ks=\"d\", b=\"u74\")\n",
    "\n",
    "d\n",
    "# shown are dCO2/dT, dfCO2/dT, dpCO2/dT, dHCO3/dT, dCO3/dT, dDIC/dT, dOmegaAragonite/dT"
   ]
  },
  {
   "cell_type": "markdown",
   "metadata": {},
   "source": [
    "#### 2.2.6 For other examples of using seacarb's `derivnum` routine\n",
    "\n",
    "Just cut & paste what you like from the output of the cell below into a new jupyter notebook cell & try them out, interactively"
   ]
  },
  {
   "cell_type": "code",
   "execution_count": 13,
   "metadata": {
    "collapsed": false
   },
   "outputs": [
    {
     "name": "stdout",
     "output_type": "stream",
     "text": [
      "\n",
      "dervnm> ## 1) For the input pair ALK and DIC (var1 and var2 when flag=15)\n",
      "dervnm> ##    compute derivatives of all output varialbes \n",
      "dervnm> ##    with respect to DIC (i.e., var2)\n",
      "dervnm> derivnum(varid='var2', flag=15, var1=2300e-6, var2=2000e-6, \n",
      "dervnm+          S=35, T=25, P=0, Patm=1.0, Pt=0, Sit=0,\n",
      "dervnm+          pHscale=\"T\", kf=\"pf\", k1k2=\"l\", ks=\"d\", b=\"u74\")\n",
      "             H       pH        CO2    fCO2    pCO2     HCO3        CO3\n",
      "1 3.511675e-05 -1695.41 0.05389665 1898312 1904392 1.588404 -0.6423006\n",
      "  OmegaAragonite OmegaCalcite\n",
      "1      -10193.63    -15465.18\n",
      "\n",
      "dervnm> ## 2) For the input pair pH and ALK (var1 and var2 when flag=8)\n",
      "dervnm> ##    compute derivatives of all output variables \n",
      "dervnm> ##    with respect to [H+] concentration\n",
      "dervnm> derivnum(varid='var1', flag=8, var1=8.2, var2=0.00234, \n",
      "dervnm+          S=35, T=25, P=0, Patm=1.0, Pt=0, Sit=0,\n",
      "dervnm+          pHscale=\"T\", kf=\"pf\", k1k2=\"l\", ks=\"d\", b=\"u74\")\n",
      "       CO2       fCO2        pCO2     HCO3       CO3      DIC OmegaAragonite\n",
      "1 1503.549 5.2957e+10 53126552323 77779.94 -31412.93 47870.57     -498539002\n",
      "  OmegaCalcite\n",
      "1   -756353997\n",
      "\n",
      "dervnm> ## 3) Using vectors as arguments and compute derivatives of all output \n",
      "dervnm> ##    variables with respect to temperature\n",
      "dervnm> flag <- c(8, 2, 8)\n",
      "\n",
      "dervnm> var1 <- c(8.2, 7.477544e-06, 8.2)\n",
      "\n",
      "dervnm> var2 <- c(0.002343955, 0.001649802, 2400e-6)\n",
      "\n",
      "dervnm> S <- c(35, 35, 30)\n",
      "\n",
      "dervnm> T <- c(25, 25, 30)\n",
      "\n",
      "dervnm> P <- c(0, 0, 0)\n",
      "\n",
      "dervnm> Pt <- c(0, 0, 0)\n",
      "\n",
      "dervnm> Sit <- c(0, 0, 0)\n",
      "\n",
      "dervnm> kf <- c(\"pf\", \"pf\", \"pf\")\n",
      "\n",
      "dervnm> k1k2 <- c(\"l\", \"l\", \"l\")\n",
      "\n",
      "dervnm> pHscale <- c(\"T\", \"T\", \"T\")\n",
      "\n",
      "dervnm> b <- c(\"u74\", \"u74\", \"u74\")\n",
      "\n",
      "dervnm> derivnum(varid='T', flag=flag, var1=var1, var2=var2, S=S, T=T, P=P,\n",
      "dervnm+          Pt=Pt, Sit=Sit, kf=kf, k1k2=k1k2, pHscale=pHscale, b=b)\n",
      "             H           pH           CO2      fCO2      pCO2          HCO3\n",
      "1 0.000000e+00  0.000000000 -2.208333e-07 -1.267338 -1.281466 -1.777548e-05\n",
      "2 1.249353e-10 -0.008419675  0.000000e+00  6.649005  6.660010  0.000000e+00\n",
      "3 0.000000e+00  0.000000000 -2.017130e-07 -1.449937 -1.464215 -1.824656e-05\n",
      "           CO3           DIC          ALK OmegaAragonite OmegaCalcite\n",
      "1 7.332741e-06 -1.066357e-05 0.000000e+00     0.13715782    0.1875036\n",
      "2 4.793633e-06  4.793633e-06 1.084857e-05     0.09642431    0.1261375\n",
      "3 7.603906e-06 -1.084437e-05 0.000000e+00     0.16081618    0.2177805\n",
      "\n",
      "dervnm> # For more examples of use of derivnum.R,\n",
      "dervnm> # consult the code of seacarb's errors routine.\n",
      "dervnm> \n",
      "dervnm> \n",
      "dervnm> \n"
     ]
    }
   ],
   "source": [
    "example(derivnum)"
   ]
  }
 ],
 "metadata": {
  "anaconda-cloud": {},
  "kernelspec": {
   "display_name": "R",
   "language": "R",
   "name": "ir"
  },
  "language_info": {
   "codemirror_mode": "r",
   "file_extension": ".r",
   "mimetype": "text/x-r-source",
   "name": "R",
   "pygments_lexer": "r",
   "version": "3.3.2"
  }
 },
 "nbformat": 4,
 "nbformat_minor": 0
}
