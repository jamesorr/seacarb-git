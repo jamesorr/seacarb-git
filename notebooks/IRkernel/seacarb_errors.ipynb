{
 "cells": [
  {
   "cell_type": "markdown",
   "metadata": {},
   "source": [
    "# Examples with `seacarb`'s `errors` routine for uncertainty propagation"
   ]
  },
  {
   "cell_type": "markdown",
   "metadata": {},
   "source": [
    "<hr>\n",
    "James Orr - 4 July 2018<br>\n",
    "\n",
    "<img align=\"left\" width=\"60%\" src=\"http://www.lsce.ipsl.fr/Css/img/banniere_LSCE_75.png\" \\><br><br>\n",
    "\n",
    "LSCE/IPSL, CEA-CNRS-UVSQ, Gif-sur-Yvette, France\n",
    "<hr>"
   ]
  },
  {
   "cell_type": "markdown",
   "metadata": {},
   "source": [
    "#### Table of Contents:\n",
    "    1. Setup, load, install seacarb (one-time only)\n",
    "    2. Uncertainty propagation with `errors` routine\n"
   ]
  },
  {
   "cell_type": "markdown",
   "metadata": {},
   "source": [
    "## 1. Setup "
   ]
  },
  {
   "cell_type": "markdown",
   "metadata": {},
   "source": [
    "### 1.1 Run interactively\n",
    "\n",
    "If you are visualizing this ***notebook*** after clicking on the link to this file on github, you are seeing the HTML version of a jupyter notebook. A second approach, which is more useful, is to actually run & modify cells in this notebook by using the \"binder\" facility, which takes the notebook on git hub and runs it via the cloud through https://mybinder.org. \n",
    "\n",
    "For maximum flexibility though, you may ultimately wish run cells interactively and modify and store the changes in notebooks on your local machine using `jupyter notebook` also installed on your local machine.   To install that software locally, just download and the anaconda open software installer for your computing platform (Windows, OS X, or Linux) from https://www.continuum.io/downloads and then follow the easy install instructions at\n",
    "\n",
    "https://docs.continuum.io/anaconda/install#\n",
    "\n",
    "Then just download this `jupyter notebook` file as well as the seacarb package (see section 1.2 below).  Afterwards, you'll only need to install `Rmagic`, available in the `rpy2` package with the 2 lines of commands shown in the following section."
   ]
  },
  {
   "cell_type": "markdown",
   "metadata": {},
   "source": [
    "#### Install `R` locally\n",
    "\n",
    "If running this on your local machine (and not online with binder) before launching the notebook with the usual command `jupyter notebook`, it is necessary to install R. To install that, at the Unix prompt, just enter the following command (assumng you have installed anaconda):\n",
    "\n",
    "`conda install -c r r-essentials`\n",
    "\n",
    "That only needs to be done once. Normally, r-essentials includes the IRkernel package to allow the Notebook code cells to be R code (via the R kernel). Now go to the directory with this notebook, and at the Unix prompt, give the `jupyter notebook` command"
   ]
  },
  {
   "cell_type": "markdown",
   "metadata": {},
   "source": [
    "### 1.2  Install seacarb and call library (need to install `seacarb` only once unlesss updating versions)"
   ]
  },
  {
   "cell_type": "markdown",
   "metadata": {},
   "source": [
    "#### Uncomment last line in cell below and execute cell if you want to install `seacarb` again"
   ]
  },
  {
   "cell_type": "code",
   "execution_count": 1,
   "metadata": {
    "collapsed": false
   },
   "outputs": [
    {
     "name": "stderr",
     "output_type": "stream",
     "text": [
      "Updating HTML index of packages in '.Library'\n",
      "Making 'packages.html' ... done\n"
     ]
    }
   ],
   "source": [
    "#install.packages('seacarb')\n",
    "install.packages('seacarb', repos=\"http://ftp.igh.cnrs.fr/pub/CRAN/\")"
   ]
  },
  {
   "cell_type": "markdown",
   "metadata": {},
   "source": [
    "#### Use seacarb library (only need to invoke this once per session)"
   ]
  },
  {
   "cell_type": "code",
   "execution_count": 2,
   "metadata": {
    "collapsed": false,
    "scrolled": false
   },
   "outputs": [
    {
     "name": "stderr",
     "output_type": "stream",
     "text": [
      "Loading required package: oce\n",
      "Loading required package: gsw\n"
     ]
    }
   ],
   "source": [
    "library(seacarb)"
   ]
  },
  {
   "cell_type": "markdown",
   "metadata": {},
   "source": [
    "#### Version number of seacarb that you are using"
   ]
  },
  {
   "cell_type": "code",
   "execution_count": 3,
   "metadata": {
    "collapsed": false,
    "scrolled": true
   },
   "outputs": [
    {
     "data": {
      "text/plain": [
       "[1] ‘3.2.8’"
      ]
     },
     "metadata": {},
     "output_type": "display_data"
    }
   ],
   "source": [
    "packageVersion('seacarb')"
   ]
  },
  {
   "cell_type": "markdown",
   "metadata": {},
   "source": [
    "## 2.  Uncertainty Propagation with `errors` routine"
   ]
  },
  {
   "cell_type": "code",
   "execution_count": 4,
   "metadata": {
    "collapsed": false
   },
   "outputs": [],
   "source": [
    "?errors"
   ]
  },
  {
   "cell_type": "markdown",
   "metadata": {},
   "source": [
    "### 2.1 `carb` routine computes derived variables but does not to propagate uncertainties"
   ]
  },
  {
   "cell_type": "code",
   "execution_count": 5,
   "metadata": {
    "collapsed": false
   },
   "outputs": [
    {
     "name": "stdout",
     "output_type": "stream",
     "text": [
      "  flag  S  T Patm P       pH          CO2     fCO2     pCO2  fCO2pot  pCO2pot\n",
      "1   15 35 18    1 0 8.152525 1.018509e-05 297.0486 298.0854 297.0854 298.1224\n",
      "  fCO2insitu pCO2insitu        HCO3          CO3   DIC    ALK OmegaAragonite\n",
      "1   297.0486   298.0854 0.001779217 0.0002105975 0.002 0.0023       3.252296\n",
      "  OmegaCalcite\n",
      "1     5.029397\n"
     ]
    }
   ],
   "source": [
    "# Standard seacarb routine to compute derived variables (carb, not errors)\n",
    "vars <- carb(flag=15, var1=2300e-6, var2=2000e-6, S=35, T=18, P=0, Patm=1.0, Pt=0, Sit=0, \n",
    "            pHscale=\"T\", kf=\"pf\", k1k2=\"l\", ks=\"d\", b=\"u74\")\n",
    "\n",
    "print(vars)"
   ]
  },
  {
   "cell_type": "markdown",
   "metadata": {},
   "source": [
    "#### Print out the same dataframe but in a nicer tabel format, simply by tying the name of the variable"
   ]
  },
  {
   "cell_type": "code",
   "execution_count": 6,
   "metadata": {
    "collapsed": false
   },
   "outputs": [
    {
     "data": {
      "text/html": [
       "<table>\n",
       "<thead><tr><th scope=col>flag</th><th scope=col>S</th><th scope=col>T</th><th scope=col>Patm</th><th scope=col>P</th><th scope=col>pH</th><th scope=col>CO2</th><th scope=col>fCO2</th><th scope=col>pCO2</th><th scope=col>fCO2pot</th><th scope=col>pCO2pot</th><th scope=col>fCO2insitu</th><th scope=col>pCO2insitu</th><th scope=col>HCO3</th><th scope=col>CO3</th><th scope=col>DIC</th><th scope=col>ALK</th><th scope=col>OmegaAragonite</th><th scope=col>OmegaCalcite</th></tr></thead>\n",
       "<tbody>\n",
       "\t<tr><td>15          </td><td>35          </td><td>18          </td><td>1           </td><td>0           </td><td>8.152525    </td><td>1.018509e-05</td><td>297.0486    </td><td>298.0854    </td><td>297.0854    </td><td>298.1224    </td><td>297.0486    </td><td>298.0854    </td><td>0.001779217 </td><td>0.0002105975</td><td>0.002       </td><td>0.0023      </td><td>3.252296    </td><td>5.029397    </td></tr>\n",
       "</tbody>\n",
       "</table>\n"
      ],
      "text/latex": [
       "\\begin{tabular}{r|lllllllllllllllllll}\n",
       " flag & S & T & Patm & P & pH & CO2 & fCO2 & pCO2 & fCO2pot & pCO2pot & fCO2insitu & pCO2insitu & HCO3 & CO3 & DIC & ALK & OmegaAragonite & OmegaCalcite\\\\\n",
       "\\hline\n",
       "\t 15           & 35           & 18           & 1            & 0            & 8.152525     & 1.018509e-05 & 297.0486     & 298.0854     & 297.0854     & 298.1224     & 297.0486     & 298.0854     & 0.001779217  & 0.0002105975 & 0.002        & 0.0023       & 3.252296     & 5.029397    \\\\\n",
       "\\end{tabular}\n"
      ],
      "text/markdown": [
       "\n",
       "flag | S | T | Patm | P | pH | CO2 | fCO2 | pCO2 | fCO2pot | pCO2pot | fCO2insitu | pCO2insitu | HCO3 | CO3 | DIC | ALK | OmegaAragonite | OmegaCalcite | \n",
       "|---|\n",
       "| 15           | 35           | 18           | 1            | 0            | 8.152525     | 1.018509e-05 | 297.0486     | 298.0854     | 297.0854     | 298.1224     | 297.0486     | 298.0854     | 0.001779217  | 0.0002105975 | 0.002        | 0.0023       | 3.252296     | 5.029397     | \n",
       "\n",
       "\n"
      ],
      "text/plain": [
       "  flag S  T  Patm P pH       CO2          fCO2     pCO2     fCO2pot  pCO2pot \n",
       "1 15   35 18 1    0 8.152525 1.018509e-05 297.0486 298.0854 297.0854 298.1224\n",
       "  fCO2insitu pCO2insitu HCO3        CO3          DIC   ALK    OmegaAragonite\n",
       "1 297.0486   298.0854   0.001779217 0.0002105975 0.002 0.0023 3.252296      \n",
       "  OmegaCalcite\n",
       "1 5.029397    "
      ]
     },
     "metadata": {},
     "output_type": "display_data"
    }
   ],
   "source": [
    "vars"
   ]
  },
  {
   "cell_type": "markdown",
   "metadata": {},
   "source": [
    "### 2.2 Use the `errors` routine to propagate uncertainties \n",
    "\n",
    "It is used just like the `carb` routine except that a middle line is added to specify the input uncertainties"
   ]
  },
  {
   "cell_type": "markdown",
   "metadata": {},
   "source": [
    "#### 2.2.1 $A_\\text{T}$-$C_\\text{T}$ pair with default uncertainties for the constants (epK) and total boron (eBt)\n",
    "\n",
    "By default:\n",
    "* epK=c(0.002, 0.0075, 0.015, 0.01, 0.01, 0.02, 0.02)\n",
    "* eBt=0.02\n",
    "\n",
    "It is strongly recommended to use the default values for epK and eBt. These non-zero values lead to significant propagated uncertainties in the calculated variables. It is NOT justified to consider that those uncertainties are negligible, as assumed is some previous work. However, in later examples we do make calculations with epK=NULL and eBt=NULL in order to show the relative importance of the default unertainties for those parameters."
   ]
  },
  {
   "cell_type": "markdown",
   "metadata": {},
   "source": [
    "#### The easiest way to use the default uncertainties for epK and eBt is simply not to include those arguments in the call to errors (as below)."
   ]
  },
  {
   "cell_type": "code",
   "execution_count": 7,
   "metadata": {
    "collapsed": false,
    "scrolled": true
   },
   "outputs": [
    {
     "data": {
      "text/html": [
       "<table>\n",
       "<thead><tr><th scope=col>H</th><th scope=col>pH</th><th scope=col>CO2</th><th scope=col>fCO2</th><th scope=col>pCO2</th><th scope=col>HCO3</th><th scope=col>CO3</th><th scope=col>OmegaAragonite</th><th scope=col>OmegaCalcite</th></tr></thead>\n",
       "<tbody>\n",
       "\t<tr><td>2.254981e-10</td><td>0.01088688  </td><td>3.276592e-07</td><td>11.68351    </td><td>11.72093    </td><td>2.819879e-06</td><td>2.668916e-06</td><td>0.1616525   </td><td>0.2452496   </td></tr>\n",
       "\t<tr><td>3.272717e-10</td><td>0.01580043  </td><td>4.775421e-07</td><td>16.91805    </td><td>16.97223    </td><td>9.008468e-06</td><td>5.385653e-06</td><td>0.1778849   </td><td>0.2698765   </td></tr>\n",
       "</tbody>\n",
       "</table>\n"
      ],
      "text/latex": [
       "\\begin{tabular}{r|lllllllll}\n",
       " H & pH & CO2 & fCO2 & pCO2 & HCO3 & CO3 & OmegaAragonite & OmegaCalcite\\\\\n",
       "\\hline\n",
       "\t 2.254981e-10 & 0.01088688   & 3.276592e-07 & 11.68351     & 11.72093     & 2.819879e-06 & 2.668916e-06 & 0.1616525    & 0.2452496   \\\\\n",
       "\t 3.272717e-10 & 0.01580043   & 4.775421e-07 & 16.91805     & 16.97223     & 9.008468e-06 & 5.385653e-06 & 0.1778849    & 0.2698765   \\\\\n",
       "\\end{tabular}\n"
      ],
      "text/markdown": [
       "\n",
       "H | pH | CO2 | fCO2 | pCO2 | HCO3 | CO3 | OmegaAragonite | OmegaCalcite | \n",
       "|---|---|\n",
       "| 2.254981e-10 | 0.01088688   | 3.276592e-07 | 11.68351     | 11.72093     | 2.819879e-06 | 2.668916e-06 | 0.1616525    | 0.2452496    | \n",
       "| 3.272717e-10 | 0.01580043   | 4.775421e-07 | 16.91805     | 16.97223     | 9.008468e-06 | 5.385653e-06 | 0.1778849    | 0.2698765    | \n",
       "\n",
       "\n"
      ],
      "text/plain": [
       "  H            pH         CO2          fCO2     pCO2     HCO3        \n",
       "1 2.254981e-10 0.01088688 3.276592e-07 11.68351 11.72093 2.819879e-06\n",
       "2 3.272717e-10 0.01580043 4.775421e-07 16.91805 16.97223 9.008468e-06\n",
       "  CO3          OmegaAragonite OmegaCalcite\n",
       "1 2.668916e-06 0.1616525      0.2452496   \n",
       "2 5.385653e-06 0.1778849      0.2698765   "
      ]
     },
     "metadata": {},
     "output_type": "display_data"
    }
   ],
   "source": [
    "err <- errors(flag=15, var1=2300e-6, var2=2000e-6, S=35, T=25, P=0, Patm=1.0, Pt=0, Sit=0, \n",
    "            evar1=c(0e-6,5e-6), evar2=c(0e-6,5e-6), eS=0, eT=0, ePt=0, eSit=0, \n",
    "            pHscale=\"T\", kf=\"pf\", k1k2=\"l\", ks=\"d\", b=\"u74\")\n",
    "\n",
    "#print(err)\n",
    "err"
   ]
  },
  {
   "cell_type": "markdown",
   "metadata": {},
   "source": [
    "##### Do exactly the same but specify the default values explicitly"
   ]
  },
  {
   "cell_type": "code",
   "execution_count": 8,
   "metadata": {
    "collapsed": false
   },
   "outputs": [
    {
     "data": {
      "text/html": [
       "<table>\n",
       "<thead><tr><th scope=col>H</th><th scope=col>pH</th><th scope=col>CO2</th><th scope=col>fCO2</th><th scope=col>pCO2</th><th scope=col>HCO3</th><th scope=col>CO3</th><th scope=col>OmegaAragonite</th><th scope=col>OmegaCalcite</th></tr></thead>\n",
       "<tbody>\n",
       "\t<tr><td>2.254981e-10</td><td>0.01088688  </td><td>3.276592e-07</td><td>11.68351    </td><td>11.72093    </td><td>2.819879e-06</td><td>2.668916e-06</td><td>0.1616525   </td><td>0.2452496   </td></tr>\n",
       "\t<tr><td>3.272717e-10</td><td>0.01580043  </td><td>4.775421e-07</td><td>16.91805    </td><td>16.97223    </td><td>9.008468e-06</td><td>5.385653e-06</td><td>0.1778849   </td><td>0.2698765   </td></tr>\n",
       "</tbody>\n",
       "</table>\n"
      ],
      "text/latex": [
       "\\begin{tabular}{r|lllllllll}\n",
       " H & pH & CO2 & fCO2 & pCO2 & HCO3 & CO3 & OmegaAragonite & OmegaCalcite\\\\\n",
       "\\hline\n",
       "\t 2.254981e-10 & 0.01088688   & 3.276592e-07 & 11.68351     & 11.72093     & 2.819879e-06 & 2.668916e-06 & 0.1616525    & 0.2452496   \\\\\n",
       "\t 3.272717e-10 & 0.01580043   & 4.775421e-07 & 16.91805     & 16.97223     & 9.008468e-06 & 5.385653e-06 & 0.1778849    & 0.2698765   \\\\\n",
       "\\end{tabular}\n"
      ],
      "text/markdown": [
       "\n",
       "H | pH | CO2 | fCO2 | pCO2 | HCO3 | CO3 | OmegaAragonite | OmegaCalcite | \n",
       "|---|---|\n",
       "| 2.254981e-10 | 0.01088688   | 3.276592e-07 | 11.68351     | 11.72093     | 2.819879e-06 | 2.668916e-06 | 0.1616525    | 0.2452496    | \n",
       "| 3.272717e-10 | 0.01580043   | 4.775421e-07 | 16.91805     | 16.97223     | 9.008468e-06 | 5.385653e-06 | 0.1778849    | 0.2698765    | \n",
       "\n",
       "\n"
      ],
      "text/plain": [
       "  H            pH         CO2          fCO2     pCO2     HCO3        \n",
       "1 2.254981e-10 0.01088688 3.276592e-07 11.68351 11.72093 2.819879e-06\n",
       "2 3.272717e-10 0.01580043 4.775421e-07 16.91805 16.97223 9.008468e-06\n",
       "  CO3          OmegaAragonite OmegaCalcite\n",
       "1 2.668916e-06 0.1616525      0.2452496   \n",
       "2 5.385653e-06 0.1778849      0.2698765   "
      ]
     },
     "metadata": {},
     "output_type": "display_data"
    }
   ],
   "source": [
    "epK=c(0.002, 0.0075, 0.015, 0.01, 0.01, 0.02, 0.02)\n",
    "eBt=0.02\n",
    "err <- errors(flag=15, var1=2300e-6, var2=2000e-6, S=35, T=25, P=0, Patm=1.0, Pt=0, Sit=0, \n",
    "            evar1=c(0,5e-6), evar2=c(0,5e-6), eS=0, eT=0, ePt=0, eSit=0, epK=epK, eBt=eBt,\n",
    "            pHscale=\"T\", kf=\"pf\", k1k2=\"l\", ks=\"d\", b=\"u74\")\n",
    "\n",
    "#print(err)\n",
    "err"
   ]
  },
  {
   "cell_type": "markdown",
   "metadata": {},
   "source": [
    "#### 2.2.3 $A_\\text{T}$-$C_\\text{T}$ pair but with zero uncertainties for the constants and total boron (unrealistic)"
   ]
  },
  {
   "cell_type": "code",
   "execution_count": 9,
   "metadata": {
    "collapsed": false
   },
   "outputs": [
    {
     "data": {
      "text/html": [
       "<table>\n",
       "<thead><tr><th scope=col>H</th><th scope=col>pH</th><th scope=col>CO2</th><th scope=col>fCO2</th><th scope=col>pCO2</th><th scope=col>HCO3</th><th scope=col>CO3</th><th scope=col>OmegaAragonite</th><th scope=col>OmegaCalcite</th></tr></thead>\n",
       "<tbody>\n",
       "\t<tr><td>0.000000e+00</td><td>0.00000000  </td><td>0.000000e+00</td><td> 0.00000    </td><td> 0.00000    </td><td>0.000000e+00</td><td>0.000000e+00</td><td>0.00000000  </td><td>0.000000    </td></tr>\n",
       "\t<tr><td>2.371863e-10</td><td>0.01145118  </td><td>3.473987e-07</td><td>12.23585    </td><td>12.27503    </td><td>8.555746e-06</td><td>4.677835e-06</td><td>0.07423961  </td><td>0.112632    </td></tr>\n",
       "</tbody>\n",
       "</table>\n"
      ],
      "text/latex": [
       "\\begin{tabular}{r|lllllllll}\n",
       " H & pH & CO2 & fCO2 & pCO2 & HCO3 & CO3 & OmegaAragonite & OmegaCalcite\\\\\n",
       "\\hline\n",
       "\t 0.000000e+00 & 0.00000000   & 0.000000e+00 &  0.00000     &  0.00000     & 0.000000e+00 & 0.000000e+00 & 0.00000000   & 0.000000    \\\\\n",
       "\t 2.371863e-10 & 0.01145118   & 3.473987e-07 & 12.23585     & 12.27503     & 8.555746e-06 & 4.677835e-06 & 0.07423961   & 0.112632    \\\\\n",
       "\\end{tabular}\n"
      ],
      "text/markdown": [
       "\n",
       "H | pH | CO2 | fCO2 | pCO2 | HCO3 | CO3 | OmegaAragonite | OmegaCalcite | \n",
       "|---|---|\n",
       "| 0.000000e+00 | 0.00000000   | 0.000000e+00 |  0.00000     |  0.00000     | 0.000000e+00 | 0.000000e+00 | 0.00000000   | 0.000000     | \n",
       "| 2.371863e-10 | 0.01145118   | 3.473987e-07 | 12.23585     | 12.27503     | 8.555746e-06 | 4.677835e-06 | 0.07423961   | 0.112632     | \n",
       "\n",
       "\n"
      ],
      "text/plain": [
       "  H            pH         CO2          fCO2     pCO2     HCO3        \n",
       "1 0.000000e+00 0.00000000 0.000000e+00  0.00000  0.00000 0.000000e+00\n",
       "2 2.371863e-10 0.01145118 3.473987e-07 12.23585 12.27503 8.555746e-06\n",
       "  CO3          OmegaAragonite OmegaCalcite\n",
       "1 0.000000e+00 0.00000000     0.000000    \n",
       "2 4.677835e-06 0.07423961     0.112632    "
      ]
     },
     "metadata": {},
     "output_type": "display_data"
    }
   ],
   "source": [
    "epK=NULL\n",
    "eBt=NULL\n",
    "err <- errors(flag=15, var1=2300e-6, var2=2000e-6, S=35, T=25, P=0, Patm=1.0, Pt=0, Sit=0, \n",
    "            evar1=c(0e-6,5e-6), evar2=c(0e-6,5e-6), eS=0, eT=0, ePt=0, eSit=0, epK=epK, eBt=eBt,\n",
    "            pHscale=\"T\", kf=\"pf\", k1k2=\"l\", ks=\"d\", b=\"u74\")\n",
    "\n",
    "err"
   ]
  },
  {
   "cell_type": "markdown",
   "metadata": {},
   "source": [
    "#####  Another way to specify the NULL values for epK and eBt"
   ]
  },
  {
   "cell_type": "code",
   "execution_count": 10,
   "metadata": {
    "collapsed": false
   },
   "outputs": [
    {
     "data": {
      "text/html": [
       "<table>\n",
       "<thead><tr><th scope=col>H</th><th scope=col>pH</th><th scope=col>CO2</th><th scope=col>fCO2</th><th scope=col>pCO2</th><th scope=col>HCO3</th><th scope=col>CO3</th><th scope=col>OmegaAragonite</th><th scope=col>OmegaCalcite</th></tr></thead>\n",
       "<tbody>\n",
       "\t<tr><td>0.000000e+00</td><td>0.00000000  </td><td>0.000000e+00</td><td> 0.00000    </td><td> 0.00000    </td><td>0.000000e+00</td><td>0.000000e+00</td><td>0.00000000  </td><td>0.000000    </td></tr>\n",
       "\t<tr><td>2.371863e-10</td><td>0.01145118  </td><td>3.473987e-07</td><td>12.23585    </td><td>12.27503    </td><td>8.555746e-06</td><td>4.677835e-06</td><td>0.07423961  </td><td>0.112632    </td></tr>\n",
       "</tbody>\n",
       "</table>\n"
      ],
      "text/latex": [
       "\\begin{tabular}{r|lllllllll}\n",
       " H & pH & CO2 & fCO2 & pCO2 & HCO3 & CO3 & OmegaAragonite & OmegaCalcite\\\\\n",
       "\\hline\n",
       "\t 0.000000e+00 & 0.00000000   & 0.000000e+00 &  0.00000     &  0.00000     & 0.000000e+00 & 0.000000e+00 & 0.00000000   & 0.000000    \\\\\n",
       "\t 2.371863e-10 & 0.01145118   & 3.473987e-07 & 12.23585     & 12.27503     & 8.555746e-06 & 4.677835e-06 & 0.07423961   & 0.112632    \\\\\n",
       "\\end{tabular}\n"
      ],
      "text/markdown": [
       "\n",
       "H | pH | CO2 | fCO2 | pCO2 | HCO3 | CO3 | OmegaAragonite | OmegaCalcite | \n",
       "|---|---|\n",
       "| 0.000000e+00 | 0.00000000   | 0.000000e+00 |  0.00000     |  0.00000     | 0.000000e+00 | 0.000000e+00 | 0.00000000   | 0.000000     | \n",
       "| 2.371863e-10 | 0.01145118   | 3.473987e-07 | 12.23585     | 12.27503     | 8.555746e-06 | 4.677835e-06 | 0.07423961   | 0.112632     | \n",
       "\n",
       "\n"
      ],
      "text/plain": [
       "  H            pH         CO2          fCO2     pCO2     HCO3        \n",
       "1 0.000000e+00 0.00000000 0.000000e+00  0.00000  0.00000 0.000000e+00\n",
       "2 2.371863e-10 0.01145118 3.473987e-07 12.23585 12.27503 8.555746e-06\n",
       "  CO3          OmegaAragonite OmegaCalcite\n",
       "1 0.000000e+00 0.00000000     0.000000    \n",
       "2 4.677835e-06 0.07423961     0.112632    "
      ]
     },
     "metadata": {},
     "output_type": "display_data"
    }
   ],
   "source": [
    "epK=rep(0.0, 7)\n",
    "eBt=0.0\n",
    "err <- errors(flag=15, var1=2300e-6, var2=2000e-6, S=35, T=25, P=0, Patm=1.0, Pt=0, Sit=0, \n",
    "            evar1=c(0,5e-6), evar2=c(0,5e-6), eS=0, eT=0, ePt=0, eSit=0, epK=epK, eBt=eBt,\n",
    "            pHscale=\"T\", kf=\"pf\", k1k2=\"l\", ks=\"d\", b=\"u74\")\n",
    "\n",
    "#print(err)\n",
    "err"
   ]
  },
  {
   "cell_type": "markdown",
   "metadata": {},
   "source": [
    "##### Specify the NULL values for epK but default value for eBt"
   ]
  },
  {
   "cell_type": "code",
   "execution_count": 11,
   "metadata": {
    "collapsed": false
   },
   "outputs": [
    {
     "data": {
      "text/html": [
       "<table>\n",
       "<thead><tr><th scope=col>H</th><th scope=col>pH</th><th scope=col>CO2</th><th scope=col>fCO2</th><th scope=col>pCO2</th><th scope=col>HCO3</th><th scope=col>CO3</th><th scope=col>OmegaAragonite</th><th scope=col>OmegaCalcite</th></tr></thead>\n",
       "<tbody>\n",
       "\t<tr><td>6.049570e-11</td><td>0.002920687 </td><td>8.317328e-08</td><td> 2.929474   </td><td> 2.938856   </td><td>1.207177e-06</td><td>1.290350e-06</td><td>0.02047850  </td><td>0.03106878  </td></tr>\n",
       "\t<tr><td>2.472539e-10</td><td>0.011792217 </td><td>3.609542e-07</td><td>12.713288   </td><td>12.754006   </td><td>8.583100e-06</td><td>4.796302e-06</td><td>0.07611973  </td><td>0.11548438  </td></tr>\n",
       "</tbody>\n",
       "</table>\n"
      ],
      "text/latex": [
       "\\begin{tabular}{r|lllllllll}\n",
       " H & pH & CO2 & fCO2 & pCO2 & HCO3 & CO3 & OmegaAragonite & OmegaCalcite\\\\\n",
       "\\hline\n",
       "\t 6.049570e-11 & 0.002920687  & 8.317328e-08 &  2.929474    &  2.938856    & 1.207177e-06 & 1.290350e-06 & 0.02047850   & 0.03106878  \\\\\n",
       "\t 2.472539e-10 & 0.011792217  & 3.609542e-07 & 12.713288    & 12.754006    & 8.583100e-06 & 4.796302e-06 & 0.07611973   & 0.11548438  \\\\\n",
       "\\end{tabular}\n"
      ],
      "text/markdown": [
       "\n",
       "H | pH | CO2 | fCO2 | pCO2 | HCO3 | CO3 | OmegaAragonite | OmegaCalcite | \n",
       "|---|---|\n",
       "| 6.049570e-11 | 0.002920687  | 8.317328e-08 |  2.929474    |  2.938856    | 1.207177e-06 | 1.290350e-06 | 0.02047850   | 0.03106878   | \n",
       "| 2.472539e-10 | 0.011792217  | 3.609542e-07 | 12.713288    | 12.754006    | 8.583100e-06 | 4.796302e-06 | 0.07611973   | 0.11548438   | \n",
       "\n",
       "\n"
      ],
      "text/plain": [
       "  H            pH          CO2          fCO2      pCO2      HCO3        \n",
       "1 6.049570e-11 0.002920687 8.317328e-08  2.929474  2.938856 1.207177e-06\n",
       "2 2.472539e-10 0.011792217 3.609542e-07 12.713288 12.754006 8.583100e-06\n",
       "  CO3          OmegaAragonite OmegaCalcite\n",
       "1 1.290350e-06 0.02047850     0.03106878  \n",
       "2 4.796302e-06 0.07611973     0.11548438  "
      ]
     },
     "metadata": {},
     "output_type": "display_data"
    }
   ],
   "source": [
    "epK=rep(0.0, 7)\n",
    "eBt=0.02\n",
    "err <- errors(flag=15, var1=2300e-6, var2=2000e-6, S=35, T=25, P=0, Patm=1.0, Pt=0, Sit=0, \n",
    "            evar1=c(0,5e-6), evar2=c(0,5e-6), eS=0, eT=0, ePt=0, eSit=0, epK=epK, eBt=eBt,\n",
    "            pHscale=\"T\", kf=\"pf\", k1k2=\"l\", ks=\"d\", b=\"l10\")\n",
    "\n",
    "#print(err)\n",
    "err"
   ]
  },
  {
   "cell_type": "markdown",
   "metadata": {},
   "source": [
    "#### 2.2.4 Propagate uncertainties with a different input pair (pCO$_2$-pH) "
   ]
  },
  {
   "cell_type": "code",
   "execution_count": 12,
   "metadata": {
    "collapsed": false
   },
   "outputs": [
    {
     "data": {
      "text/html": [
       "<table>\n",
       "<thead><tr><th scope=col>CO2</th><th scope=col>fCO2</th><th scope=col>HCO3</th><th scope=col>CO3</th><th scope=col>DIC</th><th scope=col>ALK</th><th scope=col>OmegaAragonite</th><th scope=col>OmegaCalcite</th></tr></thead>\n",
       "<tbody>\n",
       "\t<tr><td>9.289899e-08</td><td>1.992793    </td><td>5.575484e-05</td><td>1.065855e-05</td><td>6.448462e-05</td><td>7.49822e-05 </td><td>0.2068844   </td><td>0.319929    </td></tr>\n",
       "</tbody>\n",
       "</table>\n"
      ],
      "text/latex": [
       "\\begin{tabular}{r|llllllll}\n",
       " CO2 & fCO2 & HCO3 & CO3 & DIC & ALK & OmegaAragonite & OmegaCalcite\\\\\n",
       "\\hline\n",
       "\t 9.289899e-08 & 1.992793     & 5.575484e-05 & 1.065855e-05 & 6.448462e-05 & 7.49822e-05  & 0.2068844    & 0.319929    \\\\\n",
       "\\end{tabular}\n"
      ],
      "text/markdown": [
       "\n",
       "CO2 | fCO2 | HCO3 | CO3 | DIC | ALK | OmegaAragonite | OmegaCalcite | \n",
       "|---|\n",
       "| 9.289899e-08 | 1.992793     | 5.575484e-05 | 1.065855e-05 | 6.448462e-05 | 7.49822e-05  | 0.2068844    | 0.319929     | \n",
       "\n",
       "\n"
      ],
      "text/plain": [
       "  CO2          fCO2     HCO3         CO3          DIC          ALK        \n",
       "1 9.289899e-08 1.992793 5.575484e-05 1.065855e-05 6.448462e-05 7.49822e-05\n",
       "  OmegaAragonite OmegaCalcite\n",
       "1 0.2068844      0.319929    "
      ]
     },
     "metadata": {},
     "output_type": "display_data"
    }
   ],
   "source": [
    "epK=c(0.002, 0.0075, 0.015, 0.01, 0.01, 0.02, 0.02)\n",
    "eBt = 0.02\n",
    "\n",
    "err <- errors(flag=21, var1=400, var2=8.05, S=35, T=18, P=0, Patm=1.0, Pt=0, Sit=0, \n",
    "            evar1=2, evar2=0.01, eS=0, eT=0, ePt=0, eSit=0, epK=epK, eBt=eBt, method='mo',r=0.0,\n",
    "            pHscale=\"T\", kf=\"pf\", k1k2=\"l\", ks=\"d\", b=\"u74\")\n",
    "err"
   ]
  },
  {
   "cell_type": "markdown",
   "metadata": {},
   "source": [
    "#### 2.2.5 For more complex examples of using seacarb's `errors` routine\n",
    "\n",
    "Just cut & paste what you like from the output of the cell below into a new jupyter notebook cell & try them out, interactively"
   ]
  },
  {
   "cell_type": "code",
   "execution_count": 13,
   "metadata": {
    "collapsed": true
   },
   "outputs": [
    {
     "name": "stdout",
     "output_type": "stream",
     "text": [
      "\n",
      "errors> ## 1) For the input pair ALK and DIC (var1 and var2 when flag=15),\n",
      "errors> ## compute resulting uncertainty from given uncertainty on ALK and DIC (5 umol/kg)\n",
      "errors> ## and default uncertainties in dissociation constants and total boron\n",
      "errors> ## using the default method (Gaussian)\n",
      "errors> errors(flag=15, var1=2300e-6, var2=2000e-6, S=35, T=25, P=0, Patm=1.0, Pt=0, Sit=0, \n",
      "errors+        evar1=5e-6, evar2=5e-6, eS=0, eT=0, ePt=0, eSit=0, \n",
      "errors+        pHscale=\"T\", kf=\"pf\", k1k2=\"l\", ks=\"d\", b=\"u74\")\n",
      "             H         pH          CO2     fCO2     pCO2         HCO3\n",
      "1 3.272717e-10 0.01580043 4.775421e-07 16.91805 16.97223 9.008468e-06\n",
      "           CO3 OmegaAragonite OmegaCalcite\n",
      "1 5.385653e-06      0.1778849    0.2698765\n",
      "\n",
      "errors> ## Typical output:\n",
      "errors> ## H             pH          CO2           fCO2      pCO2      HCO3          ...\n",
      "errors> ## 3.721614e-10  0.01796767  5.441869e-07  19.25338  19.31504  9.170116e-06  ...\n",
      "errors> \n",
      "errors> ## 2) Do the same as in one, but assign a 4% uncertainty to total boron\n",
      "errors> ##    This uncertainty is the amount by which estimates from Lee et al (2010) and \n",
      "errors> ##    Uppstrom (1974) differ. The default for the latter is eBt=0.02.\n",
      "errors> errors(flag=15, var1=2300e-6, var2=2000e-6, S=35, T=25, P=0, Patm=1.0, Pt=0, Sit=0, \n",
      "errors+        evar1=5e-6, evar2=5e-6, eS=0, eT=0, ePt=0, eSit=0, eBt=0.04,\n",
      "errors+        pHscale=\"T\", kf=\"pf\", k1k2=\"l\", ks=\"d\", b=\"u74\")\n",
      "             H         pH          CO2     fCO2     pCO2         HCO3\n",
      "1 3.424148e-10 0.01653153 4.972079e-07 17.60683 17.66322 9.229877e-06\n",
      "           CO3 OmegaAragonite OmegaCalcite\n",
      "1 5.798189e-06      0.1811219    0.2747874\n",
      "\n",
      "errors> ## 3) For the input pair pH and ALK (var1 and var2 when flag=8)\n",
      "errors> ## compute standard errors in output variables from errors in input variables, i.e., \n",
      "errors> ## for pH (0.005 pH units) and in ALK (5 umol/kg), along with\n",
      "errors> ## errors in total dissolved inorganic phosphorus (0.1 umol/kg) and\n",
      "errors> ## total dissolved inorganic silicon (2 umol/kg) concentrations, while\n",
      "errors> ## assuming no uncertainty in dissociation constants & boron, using the Gaussian method:\n",
      "errors> errors(flag=8, var1=8.25, var2=2300e-6,  S=35, T=25, P=0, Patm=1.0, Pt=0, Sit=0, \n",
      "errors+        evar1=0.005, evar2=5e-6, eS=0, eT=0, ePt=0.1, eSit=2, epK=0, eBt=0,\n",
      "errors+        method=\"ga\", pHscale=\"T\", kf=\"pf\", k1k2=\"l\", ks=\"d\", b=\"u74\")\n",
      "           CO2     fCO2    pCO2      HCO3      CO3       DIC OmegaAragonite\n",
      "1 0.0005191755 18286.05 18344.6 0.1312687 0.025247 0.1570349       400.6827\n",
      "  OmegaCalcite\n",
      "1     607.8921\n",
      "\n",
      "errors> ## 4) For the input pair pCO2 and pH (var1 and var2 when flag=21)\n",
      "errors> ## compute standard errors in output variables from errors in input variables, i.e., \n",
      "errors> ## for pCO2 (2 uatm) and pH (0.005 pH units), with no uncertainties in Pt and Sit\n",
      "errors> ## nor in the dissociation constants BUT a perfect anticorrelation between pCO2 and pH,\n",
      "errors> ## (the input pair) using the Method of moments:\n",
      "errors> errors(flag=21, var1=400, var2=8.1,  S=35, T=25, P=0, Patm=1.0, Pt=0, Sit=0, \n",
      "errors+        evar1=2, evar2=0.005, eS=0, eT=0, ePt=0.0, eSit=0, epK=0, eBt=0, \n",
      "errors+        method=\"mo\", r=-1.0, pHscale=\"T\", kf=\"pf\", k1k2=\"l\", ks=\"d\", b=\"u74\")\n",
      "           CO2     fCO2         HCO3          CO3          DIC         ALK\n",
      "1 5.659392e-08 1.993314 1.319545e-05 4.972697e-06 1.811155e-05 2.41038e-05\n",
      "  OmegaAragonite OmegaCalcite\n",
      "1     0.07891921    0.1197316\n",
      "\n",
      "errors> ## 5) Use vectors as arguments and compute errors on all output variables\n",
      "errors> ## using Monte Carlo method taking into account input errors on pH, ALK, DIC\n",
      "errors> ## and dissociation constants (pKx)\n",
      "errors> flag <- c(8, 15, 8)\n",
      "\n",
      "errors> var1 <- c(8.2, 0.002394, 8.25)\n",
      "\n",
      "errors> var2 <- c(0.002343955, 0.002017, 2400e-6)\n",
      "\n",
      "errors> S <- c(35, 35, 30)\n",
      "\n",
      "errors> T <- c(25, 25, 22)\n",
      "\n",
      "errors> P <- 0\n",
      "\n",
      "errors> Pt <- 0\n",
      "\n",
      "errors> Sit <- 0\n",
      "\n",
      "errors> evar1 <- c(0.005, 2e-6, 0.005)\n",
      "\n",
      "errors> evar2 <- c(2e-6, 2e-6, 2e-6)\n",
      "\n",
      "errors> epKx <- c(0.002, 0.01, 0.02, 0.01, 0.01, 0.01, 0.01)\n",
      "\n",
      "errors> eBtx = 0.01\n",
      "\n",
      "errors> method <- \"mc\"\n",
      "\n",
      "errors> kf <- \"pf\"\n",
      "\n",
      "errors> k1k2 <- \"l\"\n",
      "\n",
      "errors> pHscale <- \"T\"\n",
      "\n",
      "errors> b <- \"u74\"\n",
      "\n",
      "errors> ## NOTE that the following is executable but enclosed in \"donttest\" \n",
      "errors> ## because it takes too long to run when submiting to CRAN\n",
      "errors> ## and is therefore rejected\n",
      "errors> ## No test: \n",
      "errors> ##D errors(flag=flag, var1=var1, var2=var2, S=S, T=T, P=P, Pt=Pt, Sit=Sit, \n",
      "errors> ##D        evar1=evar1, evar2=evar2, eS=0, eT=0, ePt=0, eSit=0, epK=epKx, eBt=eBtx,\n",
      "errors> ##D        method=method, runs=10000, kf=kf, k1k2=k1k2, pHscale=pHscale, b=b)\n",
      "errors> ## End(No test)\n",
      "errors> \n",
      "errors> \n",
      "errors> \n"
     ]
    }
   ],
   "source": [
    "example(errors)"
   ]
  }
 ],
 "metadata": {
  "anaconda-cloud": {},
  "kernelspec": {
   "display_name": "R",
   "language": "R",
   "name": "ir"
  },
  "language_info": {
   "codemirror_mode": "r",
   "file_extension": ".r",
   "mimetype": "text/x-r-source",
   "name": "R",
   "pygments_lexer": "r",
   "version": "3.3.2"
  }
 },
 "nbformat": 4,
 "nbformat_minor": 0
}
